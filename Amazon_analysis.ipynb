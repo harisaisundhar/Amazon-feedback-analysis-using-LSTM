{
  "nbformat": 4,
  "nbformat_minor": 0,
  "metadata": {
    "colab": {
      "name": "Amazon_analysis.ipynb",
      "provenance": [],
      "collapsed_sections": []
    },
    "language_info": {
      "name": "python",
      "version": "3.6.4",
      "mimetype": "text/x-python",
      "codemirror_mode": {
        "name": "ipython",
        "version": 3
      },
      "pygments_lexer": "ipython3",
      "nbconvert_exporter": "python",
      "file_extension": ".py"
    },
    "kernelspec": {
      "name": "python3",
      "display_name": "Python 3"
    },
    "accelerator": "GPU"
  },
  "cells": [
    {
      "cell_type": "markdown",
      "metadata": {
        "id": "CkjUWQDtu-lu"
      },
      "source": [
        "# **Abstractive Text Summarization using LSTM**\n",
        "\n",
        "### Model presented for Machine Learning Project\n",
        "\n",
        "#### **Team Members**\n",
        "\n",
        "- Harisaipravin Sv - 17Pw13\n",
        "- Karanraj M - 17pw18\n",
        "\n",
        "- Under the guidance of **Dr. N.Geetha**\n"
      ]
    },
    {
      "cell_type": "markdown",
      "metadata": {
        "id": "SCS7sud8C_vD"
      },
      "source": [
        "*# A neural network is considered to be an effort to mimic human brain actions in a simplified manner. Attention Mechanism is also an attempt to implement the same action of selectively concentrating on a few relevant things, while ignoring others in deep neural networks.*"
      ]
    },
    {
      "cell_type": "markdown",
      "metadata": {
        "id": "FM5ll7z9SoxG"
      },
      "source": [
        "ATTENTION LAYER DEFINITION"
      ]
    },
    {
      "cell_type": "code",
      "metadata": {
        "id": "rTnyOFtdQ4WT"
      },
      "source": [
        "# Attention Layer focusses on one part of the data at a time just like humans, instead of looking all at a time which proved to be forgetfull in RNN"
      ],
      "execution_count": 1,
      "outputs": []
    },
    {
      "cell_type": "code",
      "metadata": {
        "trusted": true,
        "id": "Fi64aA0FFxcS"
      },
      "source": [
        "# Keras support Attention Layer Library, We gathered idea from that and tried implementing on our own without going for library\n",
        "import tensorflow as Tensor_f # Tensorflow supports for Keras\n",
        "from tensorflow.python.keras.layers import Layer # Keras provide LSTM suppport\n",
        "from tensorflow.python.keras import backend as Keras_p # Backend Layer\n",
        "# word count graph for text feedback\n",
        "import matplotlib.pyplot as plt\n",
        "\n",
        "# Attention Layer reads word by word just like a human interpretter\n",
        "# In case of attention Layer All the data is fed through every iteration along with the previous result from the before iteration\n",
        "# It does this instead of just sending the previous result and thus allowing it to remember much data\n",
        "class Algo_attention(Layer):\n",
        "# This is the class from which all layers inherit. A layer is a callable object that takes as input one or more tensors and the outputs one or more tensors.\n",
        "\n",
        "    def __init__(self, **kwargs): #constructor \n",
        "        super(Algo_attention, self).__init__(**kwargs) #avoid referring to the base class explicitly\n",
        "\n",
        "    # Layers -> “forget gate layer”, “input gate layer”, “output gate layer”\n",
        "    # Layers involves a *state* (weight variables), defined in the `build()` method.\n",
        "    def build(self, input_shape): # keras default function to build\n",
        "        assert isinstance(input_shape, list) # Assert lets you test if a condition in your code returns True, if not, the program will raise an AssertionError\n",
        "        # Creates the state of the Layer\n",
        "        # Weighted vector creation for the attention layer to be trained\n",
        "        # The distribution of the input shape to accomodate every value in vertical, horizontal and Diagonal axis\n",
        "        self.Xval = self.add_weight(name='Xval', shape=Tensor_f.TensorShape((input_shape[0][2], input_shape[0][2])), trainable=True, initializer='uniform') # horizontal line over matrix\n",
        "        self.Yval = self.add_weight(name='Yval', shape=Tensor_f.TensorShape((input_shape[1][2], input_shape[0][2])), trainable=True, initializer='uniform') # verrical line over matrix\n",
        "        self.Zval = self.add_weight(name='Zval', shape=Tensor_f.TensorShape((input_shape[0][2], 1)), trainable=True, initializer='uniform') # Diagonal line, 1 stands for input_shape[2][2]\n",
        "        super(Algo_attention, self).build(input_shape) # Allows callback within the program instead of creating instance everytime\n",
        "\n",
        "    # Layer involves *computation*, defined in the `call()` method\n",
        "    def call(self, inputs, verbose=False): \n",
        "        assert type(inputs) == list # For Debugging\n",
        "        crypt, decrypt = inputs # Encode and Decode value both initialized to input at first\n",
        "        if verbose:\n",
        "            print('encoder_out_seq>', crypt.shape)\n",
        "            print('decoder_out_seq>', decrypt.shape)\n",
        "        \n",
        "        # Function to create a tensor data\n",
        "        def start_func(inputs, hidden_size):\n",
        "            tempdata= Keras_p.zeros_like(inputs)  # 0 array of input size\n",
        "            tempdata= Keras_p.sum(tempdata, axis=[1, 2])  #Summing the tempdata with values of first two axes which has data from first 2 LSTM models\n",
        "            tempdata= Keras_p.expand_dims(tempdata) # Adds the third dimension to the tempdata array\n",
        "            tempdata= Keras_p.tile(tempdata, [1, hidden_size])  # Creates the tensor of size [1, hidden_size] from the temp data value \n",
        "            return tempdata\n",
        "\n",
        "        # sum function to return list\n",
        "        def process_func(inputs, states):\n",
        "            temp = Keras_p.sum(crypt * Keras_p.expand_dims(inputs, -1), axis=1) #sum of values along the axis 1\n",
        "            return temp, [temp] #returns list\n",
        "\n",
        "        #Applying formula to the input\n",
        "        def eprocess_func(inputs, states):\n",
        "            message = \"Input must be of type list\".format(states, type(states)) # checks input from process_func\n",
        "            assert isinstance(states, list) or isinstance(states, tuple), message # for debugging it prints the message\n",
        "\n",
        "            # Shapeing the input for alying formula\n",
        "            h_data =  crypt.shape[2] # encoder data 2nd col \n",
        "            r_output = Keras_p.reshape(crypt, (-1, h_data)) # reshaping encoder data\n",
        "            s_length = crypt.shape[1] # encoder data 1st col\n",
        "            Yval_dot_h = Keras_p.expand_dims(Keras_p.dot(inputs, self.Yval), 1)  # Adds dimension of size Yval\n",
        "            Xval_dot_s = Keras_p.reshape(Keras_p.dot(r_output, self.Xval), (-1, s_length, h_data)) # multiples two tensors and returns them\n",
        "            \n",
        "            # Attenntion layer involves banck and forth checks\n",
        "            # It iterates the string from first to last and last to first \n",
        "            r_model = Keras_p.tanh(Keras_p.reshape(Xval_dot_s + Yval_dot_h, (-1, h_data))) # Element-wise tanh returning the array of size h_data\n",
        "            keras_d = Keras_p.reshape(Keras_p.dot(r_model, self.Zval), (-1, s_length)) # Multiples the num(r_model) \n",
        "            keras_d = Keras_p.softmax(keras_d) # Softmax converts a real vector to a vector of categorical probabilities, cuz max of (a)t is 1\n",
        "            return keras_d, [keras_d]\n",
        "        \n",
        "        tempdata_e = start_func(crypt, crypt.shape[1])  #Tensordata created\n",
        "        tempdata_c = start_func(crypt, crypt.shape[-1])\n",
        "        #Iterates over the time dimension of a tensor\n",
        "        final_t, results, _ = Keras_p.rnn(eprocess_func, decrypt, [tempdata_e],) #Encode RNN\n",
        "        final_t, c_outputs, _ = Keras_p.rnn(process_func, results, [tempdata_c],) #Decode RNN\n",
        "\n",
        "        return c_outputs, results"
      ],
      "execution_count": 2,
      "outputs": []
    },
    {
      "cell_type": "markdown",
      "metadata": {
        "id": "a652VwM2SUin"
      },
      "source": [
        "## DATA PREPERATION"
      ]
    },
    {
      "cell_type": "code",
      "metadata": {
        "_uuid": "8f2839f25d086af736a60e9eeb907d3b93b6e0e5",
        "_cell_guid": "b1076dfc-b9ad-4769-8c92-a6c4dae69d19",
        "trusted": true,
        "id": "_Jpu8qLEFxcY"
      },
      "source": [
        "from nltk.corpus import stopwords # frequently used words like a, an , the , etc\n",
        "from tensorflow.keras.callbacks import EarlyStopping # To stop when Model converges\n",
        "from tensorflow.keras.models import Model # To build a Model\n",
        "from tensorflow.keras.layers import Input, LSTM, Embedding, Dense, Concatenate, TimeDistributed # LSTM Support using keras\n",
        "from bs4 import BeautifulSoup # Remoeving html tags\n",
        "from keras.preprocessing.text import Tokenizer  # vectorize a text \n",
        "from keras.preprocessing.sequence import pad_sequences # ensure that all sequences in a list have the same size\n",
        "import warnings # To omit warnings\n",
        "import numpy as np # NumPy is used for working with arrays\n",
        "import pandas as pd # Manupulating data with dataframe\n",
        "import re #regular expressions to be removed\n",
        "import seaborn as sns\n",
        "from matplotlib import ticker\n",
        "import nltk # Library for stowords\n",
        "import matplotlib.pyplot as plt\n",
        "from keras.preprocessing.text import Tokenizer # allows to tokenize texts\n",
        "from keras.preprocessing.sequence import pad_sequences # pad_sequences is used to ensure that all sequences in a list have the same length\n",
        "from sklearn.model_selection import train_test_split as tts # Split arrays or matrices into random train and test subsets from the loaded data"
      ],
      "execution_count": 3,
      "outputs": []
    },
    {
      "cell_type": "code",
      "metadata": {
        "id": "E7Z1fRxXCPaD"
      },
      "source": [
        "warnings.filterwarnings(\"ignore\") #Ignore unnecessary warnings\n",
        "pd.set_option(\"display.max_colwidth\", 100) # Panda max_col_width set to 100 as it exceeds in some eror cases"
      ],
      "execution_count": 4,
      "outputs": []
    },
    {
      "cell_type": "code",
      "metadata": {
        "id": "HvfzpqYH8N24"
      },
      "source": [
        "!pip install -U -q PyDrive # Pydrive helps in mouting dataset to collab\n",
        "\n",
        "from pydrive.auth import GoogleAuth\n",
        "from pydrive.drive import GoogleDrive\n",
        "from google.colab import auth\n",
        "from oauth2client.client import GoogleCredentials  #oauth2 support given\n",
        " \n",
        "auth.authenticate_user()\n",
        "gauth = GoogleAuth()\n",
        "gauth.credentials = GoogleCredentials.get_application_default() # prompt to sign in\n",
        "drive = GoogleDrive(gauth)"
      ],
      "execution_count": 5,
      "outputs": []
    },
    {
      "cell_type": "code",
      "metadata": {
        "id": "X1_aUwPQLt7m",
        "colab": {
          "base_uri": "https://localhost:8080/"
        },
        "outputId": "98033285-9a5a-4b3a-b896-3deebdee55bd"
      },
      "source": [
        "file_list = drive.ListFile({'q': \"'1VBkB-wHeWPihF1kqS1NfdIm9gmI7F_d3' in parents and trashed=false\"}).GetList() # folder_id posted here\n",
        "for file1 in file_list:\n",
        "  print('%s -> %s' % (file1['title'], file1['id'])) # List of files in the folder"
      ],
      "execution_count": 6,
      "outputs": [
        {
          "output_type": "stream",
          "text": [
            "Amazon_analysis.ipynb -> 1P0SfCU0RhQwDFoUAABqR0DwaEywrHjOG\n",
            "end_words.txt -> 1Zo4obQw8oAiXFcRrRrWoIkxl65CgXen-\n",
            "Abstract_Txt_LSTM_Atten.pdf -> 17RcYMzpLQ1aSGdRI6CvELC8kHR6-URhQ\n",
            "Springer_paper.pdf -> 1GDmNsxbgb38PfuX1FQoVcA62ZkoyC_0Q\n",
            "Reviews.csv -> 1oFrv0a3Zm3H-ZD20zxXAoqh51Sgr_aVK\n"
          ],
          "name": "stdout"
        }
      ]
    },
    {
      "cell_type": "code",
      "metadata": {
        "id": "sBXPbiTa9Kn7"
      },
      "source": [
        "f_id=''\n",
        "drive_file = drive.CreateFile({'id': f_id})\n",
        "drive_file = drive.CreateFile({'id':'1oFrv0a3Zm3H-ZD20zxXAoqh51Sgr_aVK'}) #file_id to mount\n",
        "drive_file.GetContentFile('Reviews.csv') #getfile"
      ],
      "execution_count": 7,
      "outputs": []
    },
    {
      "cell_type": "code",
      "metadata": {
        "trusted": true,
        "id": "wnK5o4Z1Fxcj"
      },
      "source": [
        "record=pd.read_csv(\"Reviews.csv\",nrows=100000) #Read file"
      ],
      "execution_count": 8,
      "outputs": []
    },
    {
      "cell_type": "code",
      "metadata": {
        "trusted": true,
        "id": "Cjul88oOFxcr"
      },
      "source": [
        "record.drop_duplicates(subset=['Text'],inplace=True) # Drop duplicates\n",
        "record.dropna(axis=0,inplace=True) # Drop records with missing data or Null"
      ],
      "execution_count": 9,
      "outputs": []
    },
    {
      "cell_type": "code",
      "metadata": {
        "id": "wPkN-MgAD_um",
        "colab": {
          "base_uri": "https://localhost:8080/"
        },
        "outputId": "fd62d057-6315-4c11-936b-f25e27d326e5"
      },
      "source": [
        "record.info() #Record Schema"
      ],
      "execution_count": 10,
      "outputs": [
        {
          "output_type": "stream",
          "text": [
            "<class 'pandas.core.frame.DataFrame'>\n",
            "Int64Index: 88421 entries, 0 to 99999\n",
            "Data columns (total 10 columns):\n",
            " #   Column                  Non-Null Count  Dtype \n",
            "---  ------                  --------------  ----- \n",
            " 0   Id                      88421 non-null  int64 \n",
            " 1   ProductId               88421 non-null  object\n",
            " 2   UserId                  88421 non-null  object\n",
            " 3   ProfileName             88421 non-null  object\n",
            " 4   HelpfulnessNumerator    88421 non-null  int64 \n",
            " 5   HelpfulnessDenominator  88421 non-null  int64 \n",
            " 6   Score                   88421 non-null  int64 \n",
            " 7   Time                    88421 non-null  int64 \n",
            " 8   Summary                 88421 non-null  object\n",
            " 9   Text                    88421 non-null  object\n",
            "dtypes: int64(5), object(5)\n",
            "memory usage: 7.4+ MB\n"
          ],
          "name": "stdout"
        }
      ]
    },
    {
      "cell_type": "code",
      "metadata": {
        "id": "DUwo8zmR_uJh",
        "colab": {
          "base_uri": "https://localhost:8080/",
          "height": 313
        },
        "outputId": "4a7bea12-6d5b-47e1-bb0a-493488612d1f"
      },
      "source": [
        "record.head() #Record Preview"
      ],
      "execution_count": 11,
      "outputs": [
        {
          "output_type": "execute_result",
          "data": {
            "text/html": [
              "<div>\n",
              "<style scoped>\n",
              "    .dataframe tbody tr th:only-of-type {\n",
              "        vertical-align: middle;\n",
              "    }\n",
              "\n",
              "    .dataframe tbody tr th {\n",
              "        vertical-align: top;\n",
              "    }\n",
              "\n",
              "    .dataframe thead th {\n",
              "        text-align: right;\n",
              "    }\n",
              "</style>\n",
              "<table border=\"1\" class=\"dataframe\">\n",
              "  <thead>\n",
              "    <tr style=\"text-align: right;\">\n",
              "      <th></th>\n",
              "      <th>Id</th>\n",
              "      <th>ProductId</th>\n",
              "      <th>UserId</th>\n",
              "      <th>ProfileName</th>\n",
              "      <th>HelpfulnessNumerator</th>\n",
              "      <th>HelpfulnessDenominator</th>\n",
              "      <th>Score</th>\n",
              "      <th>Time</th>\n",
              "      <th>Summary</th>\n",
              "      <th>Text</th>\n",
              "    </tr>\n",
              "  </thead>\n",
              "  <tbody>\n",
              "    <tr>\n",
              "      <th>0</th>\n",
              "      <td>1</td>\n",
              "      <td>B001E4KFG0</td>\n",
              "      <td>A3SGXH7AUHU8GW</td>\n",
              "      <td>delmartian</td>\n",
              "      <td>1</td>\n",
              "      <td>1</td>\n",
              "      <td>5</td>\n",
              "      <td>1303862400</td>\n",
              "      <td>Good Quality Dog Food</td>\n",
              "      <td>I have bought several of the Vitality canned dog food products and have found them all to be of ...</td>\n",
              "    </tr>\n",
              "    <tr>\n",
              "      <th>1</th>\n",
              "      <td>2</td>\n",
              "      <td>B00813GRG4</td>\n",
              "      <td>A1D87F6ZCVE5NK</td>\n",
              "      <td>dll pa</td>\n",
              "      <td>0</td>\n",
              "      <td>0</td>\n",
              "      <td>1</td>\n",
              "      <td>1346976000</td>\n",
              "      <td>Not as Advertised</td>\n",
              "      <td>Product arrived labeled as Jumbo Salted Peanuts...the peanuts were actually small sized unsalted...</td>\n",
              "    </tr>\n",
              "    <tr>\n",
              "      <th>2</th>\n",
              "      <td>3</td>\n",
              "      <td>B000LQOCH0</td>\n",
              "      <td>ABXLMWJIXXAIN</td>\n",
              "      <td>Natalia Corres \"Natalia Corres\"</td>\n",
              "      <td>1</td>\n",
              "      <td>1</td>\n",
              "      <td>4</td>\n",
              "      <td>1219017600</td>\n",
              "      <td>\"Delight\" says it all</td>\n",
              "      <td>This is a confection that has been around a few centuries.  It is a light, pillowy citrus gelati...</td>\n",
              "    </tr>\n",
              "    <tr>\n",
              "      <th>3</th>\n",
              "      <td>4</td>\n",
              "      <td>B000UA0QIQ</td>\n",
              "      <td>A395BORC6FGVXV</td>\n",
              "      <td>Karl</td>\n",
              "      <td>3</td>\n",
              "      <td>3</td>\n",
              "      <td>2</td>\n",
              "      <td>1307923200</td>\n",
              "      <td>Cough Medicine</td>\n",
              "      <td>If you are looking for the secret ingredient in Robitussin I believe I have found it.  I got thi...</td>\n",
              "    </tr>\n",
              "    <tr>\n",
              "      <th>4</th>\n",
              "      <td>5</td>\n",
              "      <td>B006K2ZZ7K</td>\n",
              "      <td>A1UQRSCLF8GW1T</td>\n",
              "      <td>Michael D. Bigham \"M. Wassir\"</td>\n",
              "      <td>0</td>\n",
              "      <td>0</td>\n",
              "      <td>5</td>\n",
              "      <td>1350777600</td>\n",
              "      <td>Great taffy</td>\n",
              "      <td>Great taffy at a great price.  There was a wide assortment of yummy taffy.  Delivery was very qu...</td>\n",
              "    </tr>\n",
              "  </tbody>\n",
              "</table>\n",
              "</div>"
            ],
            "text/plain": [
              "   Id  ...                                                                                                 Text\n",
              "0   1  ...  I have bought several of the Vitality canned dog food products and have found them all to be of ...\n",
              "1   2  ...  Product arrived labeled as Jumbo Salted Peanuts...the peanuts were actually small sized unsalted...\n",
              "2   3  ...  This is a confection that has been around a few centuries.  It is a light, pillowy citrus gelati...\n",
              "3   4  ...  If you are looking for the secret ingredient in Robitussin I believe I have found it.  I got thi...\n",
              "4   5  ...  Great taffy at a great price.  There was a wide assortment of yummy taffy.  Delivery was very qu...\n",
              "\n",
              "[5 rows x 10 columns]"
            ]
          },
          "metadata": {
            "tags": []
          },
          "execution_count": 11
        }
      ]
    },
    {
      "cell_type": "code",
      "metadata": {
        "colab": {
          "base_uri": "https://localhost:8080/",
          "height": 638
        },
        "id": "kyFYjH9DJltW",
        "outputId": "5c95d2ce-f4f2-4311-b350-35bdaab46886"
      },
      "source": [
        "sns.countplot(record['Score'], palette=\"plasma\")\n",
        "fig = plt.gcf()\n",
        "fig.set_size_inches(10,10)\n",
        "plt.title('Score')"
      ],
      "execution_count": 12,
      "outputs": [
        {
          "output_type": "execute_result",
          "data": {
            "text/plain": [
              "Text(0.5, 1.0, 'Score')"
            ]
          },
          "metadata": {
            "tags": []
          },
          "execution_count": 12
        },
        {
          "output_type": "display_data",
          "data": {
            "image/png": "[encoded data removed]",
            "text/plain": [
              "<Figure size 720x720 with 1 Axes>"
            ]
          },
          "metadata": {
            "tags": [],
            "needs_background": "light"
          }
        }
      ]
    },
    {
      "cell_type": "code",
      "metadata": {
        "colab": {
          "base_uri": "https://localhost:8080/",
          "height": 1000
        },
        "id": "mf-unxr-HTNK",
        "outputId": "e8ddf944-febc-4f31-9ea5-f75f8e6206bd"
      },
      "source": [
        "df_products = record.groupby('ProductId').filter(lambda x: len(x) >= 500)\n",
        "df_product_groups = df_products.groupby('ProductId')\n",
        "plt.figure(figsize=(20,20))\n",
        "sns.countplot(y=\"ProductId\",  hue=\"Score\", data=df_products);"
      ],
      "execution_count": 13,
      "outputs": [
        {
          "output_type": "display_data",
          "data": {
            "image/png": "[encoded data removed]",
            "text/plain": [
              "<Figure size 1440x1440 with 1 Axes>"
            ]
          },
          "metadata": {
            "tags": [],
            "needs_background": "light"
          }
        }
      ]
    },
    {
      "cell_type": "code",
      "metadata": {
        "colab": {
          "base_uri": "https://localhost:8080/",
          "height": 296
        },
        "id": "gk3HInuwH3fO",
        "outputId": "e82f3806-8523-45fe-aada-702052742969"
      },
      "source": [
        "numUsers = len(record['UserId'].unique())\n",
        "numProducts = len(record['ProductId'].unique())\n",
        "\n",
        "fig, axes = plt.subplots(1, 1, figsize=(8, 4))\n",
        "axes.xaxis.set_major_formatter(ticker.StrMethodFormatter(\"{x:,.0f}\"))\n",
        "sns.barplot(data=pd.DataFrame({\n",
        "    'data': ['reviews', 'users', 'products'],\n",
        "    'count': [len(record), numUsers, numProducts],\n",
        "}), x='count', y='data', ax=axes)"
      ],
      "execution_count": 14,
      "outputs": [
        {
          "output_type": "execute_result",
          "data": {
            "text/plain": [
              "<matplotlib.axes._subplots.AxesSubplot at 0x7fe5878e4710>"
            ]
          },
          "metadata": {
            "tags": []
          },
          "execution_count": 14
        },
        {
          "output_type": "display_data",
          "data": {
            "image/png": "[encoded data removed]",
            "text/plain": [
              "<Figure size 576x288 with 1 Axes>"
            ]
          },
          "metadata": {
            "tags": [],
            "needs_background": "light"
          }
        }
      ]
    },
    {
      "cell_type": "code",
      "metadata": {
        "colab": {
          "base_uri": "https://localhost:8080/",
          "height": 292
        },
        "id": "8Uqdw_oiIaiX",
        "outputId": "560ce082-4217-41ec-a257-e4571a9f28d1"
      },
      "source": [
        "plt.matshow(record.corr())\n",
        "plt.show()\n",
        "print(\"1->id,2->Helpfulnesnumerator,3->heplfullnessdenominator,4->Score,5->Time\")"
      ],
      "execution_count": 15,
      "outputs": [
        {
          "output_type": "display_data",
          "data": {
            "image/png": "[encoded data removed]",
            "text/plain": [
              "<Figure size 288x288 with 1 Axes>"
            ]
          },
          "metadata": {
            "tags": [],
            "needs_background": "light"
          }
        },
        {
          "output_type": "stream",
          "text": [
            "1->id,2->Helpfulnesnumerator,3->heplfullnessdenominator,4->Score,5->Time\n"
          ],
          "name": "stdout"
        }
      ]
    },
    {
      "cell_type": "code",
      "metadata": {
        "colab": {
          "base_uri": "https://localhost:8080/"
        },
        "id": "Jhw0n87vUbry",
        "outputId": "ea475aff-cd65-41e7-a8f7-0506e281c7b9"
      },
      "source": [
        "f_id=''\n",
        "drive_file = drive.CreateFile({'id': f_id})\n",
        "drive_file = drive.CreateFile({'id':'1Zo4obQw8oAiXFcRrRrWoIkxl65CgXen-'}) #file_id to mount\n",
        "drive_file.GetContentFile('end_words.txt') #getfile\n",
        "\n",
        "com_list1 = pd.read_csv('end_words.txt')\n",
        "com_list1 = list(com_list1['e_words'])\n",
        "print(com_list1)\n",
        "com_list2 = list(map(lambda element: element.capitalize(), com_list1))\n",
        "com_list3 = list(map(lambda element: element.upper(), com_list2))\n",
        "com_words = com_list1 + com_list2 + com_list3"
      ],
      "execution_count": 16,
      "outputs": [
        {
          "output_type": "stream",
          "text": [
            "[\"ain't\", \"aren't\", \"can't\", \"'cause\", \"could've\", \"couldn't\", \"didn't\", \"doesn't\", \"don't\", \"hadn't\", \"hasn't\", \"haven't\", \"he'd\", \"he'll\", \"he's\", \"how'd\", \"how'd'y\", \"how'll\", \"how's\", \"I'd\", \"I'd've\", \"I'll\", \"I'll've\", \"I'm\", \"I've\", \"i'd\", \"i'd've\", \"i'll\", \"i'll've\", \"i'm\", \"i've\", \"isn't\", \"it'd\", \"it'd've\", \"it'll\", \"it'll've\", \"it's\", \"let's\", \"ma'am\", \"mayn't\", \"might've\", \"mightn't\", \"mightn't've\", \"must've\", \"mustn't\", \"mustn't've\", \"needn't\", \"needn't've\", \"o'clock\", \"oughtn't\", \"oughtn't've\", \"shan't\", \"sha'n't\", \"shan't've\", \"she'd\", \"she'd've\", \"she'll\", \"she'll've\", \"she's\", \"should've\", \"shouldn't\", \"shouldn't've\", \"so've\", \"so's\", \"this's\", \"that'd\", \"that'd've\", \"that's\", \"there'd\", \"there'd've\", \"there's\", \"here's\", \"they'd\", \"they'd've\", \"they'll\", \"they'll've\", \"they're\", \"they've\", \"to've\", \"wasn't\", \"we'd\", \"we'd've\", \"we'll\", \"we'll've\", \"we're\", \"we've\", \"weren't\", \"what'll\", \"what'll've\", \"what're\", \"what's\", \"what've\", \"when's\", \"when've\", \"where'd\", \"where's\", \"where've\", \"who'll\", \"who'll've\", \"who's\", \"who've\", \"why's\", \"why've\", \"will've\", \"won't\", \"won't've\", \"would've\", \"wouldn't\", \"wouldn't've\", \"y'all\", \"y'all'd\", \"y'all'd've\", \"y'all're\", \"y'all've\", \"you'd\", \"you'd've\", \"you'll\", \"you'll've\", \"you're\", \"you've\"]\n"
          ],
          "name": "stdout"
        }
      ]
    },
    {
      "cell_type": "code",
      "metadata": {
        "id": "dG9qf5AjFEku",
        "colab": {
          "base_uri": "https://localhost:8080/"
        },
        "outputId": "e4bbd228-a438-46ee-94f7-139f524f90fb"
      },
      "source": [
        "nltk.download('stopwords') #Stopwords\n",
        "word_s = set(stopwords.words('english')) # Stopwords of english language"
      ],
      "execution_count": 17,
      "outputs": [
        {
          "output_type": "stream",
          "text": [
            "[nltk_data] Downloading package stopwords to /root/nltk_data...\n",
            "[nltk_data]   Unzipping corpora/stopwords.zip.\n"
          ],
          "name": "stdout"
        }
      ]
    },
    {
      "cell_type": "code",
      "metadata": {
        "trusted": true,
        "id": "XZr-u3OEFxdT"
      },
      "source": [
        "def clean_data(text,num):\n",
        "    buffer = text.lower()\n",
        "    buffer = re.sub(r'\\([^)]*\\)', '', buffer) #removing unnecessary datas\n",
        "    buffer = re.sub('\"','', buffer) # clearing double quotes \n",
        "    buffer = re.sub(\"[^a-zA-Z]\", \" \", buffer) #special characters removed\n",
        "    buffer = re.sub('[m]{2,}', 'mm', buffer) # remove repeating words\n",
        "    buffer = BeautifulSoup(buffer, \"lxml\").text # Handling XML and HTML related datas by converting to text\n",
        "\n",
        "    if(num==0):\n",
        "        tokens = [w for w in buffer.split() if not w in word_s] #first cleanup removing stowords\n",
        "    else:\n",
        "        tokens=buffer.split() #second cleanup seperating them\n",
        "        \n",
        "    long_words=[]\n",
        "    for i in tokens:\n",
        "        if len(i)>1:                                               \n",
        "            long_words.append(i) #records having more than 1 words still\n",
        "    return (\" \".join(long_words)).strip()"
      ],
      "execution_count": 18,
      "outputs": []
    },
    {
      "cell_type": "code",
      "metadata": {
        "trusted": true,
        "id": "A2QAeCHWFxdY"
      },
      "source": [
        "processed_data = [] # processed text\n",
        "for i in com_words:\n",
        "    if i in record['Text']:\n",
        "      index = record.index(i)\n",
        "      record[index] = \"\" \n",
        "for temo in record['Text']:\n",
        "    processed_data.append(clean_data(temo,0)) # List appending"
      ],
      "execution_count": 19,
      "outputs": []
    },
    {
      "cell_type": "code",
      "metadata": {
        "trusted": true,
        "id": "NCAIkhWbFxdh",
        "colab": {
          "base_uri": "https://localhost:8080/"
        },
        "outputId": "56f7f727-3da7-4fb7-cf3c-84023888ad68"
      },
      "source": [
        "processed_data[:10]  # Top 10 text datas"
      ],
      "execution_count": 20,
      "outputs": [
        {
          "output_type": "execute_result",
          "data": {
            "text/plain": [
              "['bought several vitality canned dog food products found good quality product looks like stew processed meat smells better labrador finicky appreciates product better',\n",
              " 'product arrived labeled jumbo salted peanuts peanuts actually small sized unsalted sure error vendor intended represent product jumbo',\n",
              " 'confection around centuries light pillowy citrus gelatin nuts case filberts cut tiny squares liberally coated powdered sugar tiny mouthful heaven chewy flavorful highly recommend yummy treat familiar story lewis lion witch wardrobe treat seduces edmund selling brother sisters witch',\n",
              " 'looking secret ingredient robitussin believe found got addition root beer extract ordered made cherry soda flavor medicinal',\n",
              " 'great taffy great price wide assortment yummy taffy delivery quick taffy lover deal',\n",
              " 'got wild hair taffy ordered five pound bag taffy enjoyable many flavors watermelon root beer melon peppermint grape etc complaint bit much red black licorice flavored pieces kids husband lasted two weeks would recommend brand taffy delightful treat',\n",
              " 'saltwater taffy great flavors soft chewy candy individually wrapped well none candies stuck together happen expensive version fralinger would highly recommend candy served beach themed party everyone loved',\n",
              " 'taffy good soft chewy flavors amazing would definitely recommend buying satisfying',\n",
              " 'right mostly sprouting cats eat grass love rotate around wheatgrass rye',\n",
              " 'healthy dog food good digestion also good small puppies dog eats required amount every feeding']"
            ]
          },
          "metadata": {
            "tags": []
          },
          "execution_count": 20
        }
      ]
    },
    {
      "cell_type": "code",
      "metadata": {
        "trusted": true,
        "id": "GsRXocxoFxd-"
      },
      "source": [
        "summary_data = [] # processed summary\n",
        "for i in com_words:\n",
        "    if i in record['Summary']:\n",
        "      index = record.index(i)\n",
        "      record[index] = \"\" \n",
        "for temp in record['Summary']:\n",
        "    summary_data.append(clean_data(temp,1)) # List appending"
      ],
      "execution_count": 21,
      "outputs": []
    },
    {
      "cell_type": "code",
      "metadata": {
        "trusted": true,
        "id": "jQJdZcAzFxee",
        "colab": {
          "base_uri": "https://localhost:8080/"
        },
        "outputId": "eb6ec7a1-89fd-44cc-c422-77eea4acc178"
      },
      "source": [
        "summary_data[:10] # Top 10 summary datas"
      ],
      "execution_count": 22,
      "outputs": [
        {
          "output_type": "execute_result",
          "data": {
            "text/plain": [
              "['good quality dog food',\n",
              " 'not as advertised',\n",
              " 'delight says it all',\n",
              " 'cough medicine',\n",
              " 'great taffy',\n",
              " 'nice taffy',\n",
              " 'great just as good as the expensive brands',\n",
              " 'wonderful tasty taffy',\n",
              " 'yay barley',\n",
              " 'healthy dog food']"
            ]
          },
          "metadata": {
            "tags": []
          },
          "execution_count": 22
        }
      ]
    },
    {
      "cell_type": "code",
      "metadata": {
        "trusted": true,
        "id": "L1zLpnqsFxey"
      },
      "source": [
        "record['processed_data']=processed_data\n",
        "record['summary_data']=summary_data"
      ],
      "execution_count": 23,
      "outputs": []
    },
    {
      "cell_type": "code",
      "metadata": {
        "trusted": true,
        "id": "sYK390unFxfA"
      },
      "source": [
        "record.replace('', np.nan, inplace=True) # remove NaN values,not a proper number\n",
        "record.dropna(axis=0,inplace=True) # remove Null values"
      ],
      "execution_count": 24,
      "outputs": []
    },
    {
      "cell_type": "code",
      "metadata": {
        "trusted": true,
        "id": "MdF76AHHFxgw",
        "colab": {
          "base_uri": "https://localhost:8080/",
          "height": 530
        },
        "outputId": "be5a7bb5-2791-4ea1-d510-e4294ca1490b"
      },
      "source": [
        "# Array initialization\n",
        "temp1 = []\n",
        "\n",
        "for cnts in record['processed_data']:\n",
        "      temp1.append(len(cnts.split())) # split and append\n",
        "\n",
        "data_len = pd.DataFrame({'text':temp1}) # Dataframe conversion\n",
        "print(data_len)\n",
        "data_len.hist(bins = 60,orientation=\"horizontal\",cumulative=True,color=\"DarkRed\", label=\"Group 2\")\n",
        "plt.ylabel('Count of the words in text')\n",
        "plt.xlabel('Frequency')\n",
        "plt.show() # Outputs the graph"
      ],
      "execution_count": 26,
      "outputs": [
        {
          "output_type": "stream",
          "text": [
            "       text\n",
            "0        23\n",
            "1        18\n",
            "2        39\n",
            "3        17\n",
            "4        13\n",
            "...     ...\n",
            "88346     7\n",
            "88347    87\n",
            "88348    20\n",
            "88349    28\n",
            "88350    22\n",
            "\n",
            "[88351 rows x 1 columns]\n"
          ],
          "name": "stdout"
        },
        {
          "output_type": "display_data",
          "data": {
            "image/png": "[encoded data removed]",
            "text/plain": [
              "<Figure size 432x288 with 1 Axes>"
            ]
          },
          "metadata": {
            "tags": [],
            "needs_background": "light"
          }
        }
      ]
    },
    {
      "cell_type": "code",
      "metadata": {
        "id": "JyY2j-CmDbny",
        "colab": {
          "base_uri": "https://localhost:8080/",
          "height": 530
        },
        "outputId": "d0460748-a97f-4bdf-caed-adc308acd0a5"
      },
      "source": [
        "# word count graph for summary\n",
        "temp2 = []\n",
        "\n",
        "for cnts in record['summary_data']:\n",
        "      temp2.append(len(cnts.split())) # List append\n",
        "\n",
        "data_len = pd.DataFrame({'Feedback_sum':temp2}) # two-dimensional size-mutable, heterogeneous tabular data structure for further and easier calclulations with the data\n",
        "print(data_len)\n",
        "data_len.hist(bins = 60,orientation=\"horizontal\",cumulative=True,color=\"DarkGreen\", label=\"Group 2\") # number of histogram bins to display to make th graph clear to understand\n",
        "plt.ylabel('Count of the words in Summary')\n",
        "plt.xlabel('Frequency')\n",
        "plt.show() # Outputs the graph"
      ],
      "execution_count": 27,
      "outputs": [
        {
          "output_type": "stream",
          "text": [
            "       Feedback_sum\n",
            "0                 4\n",
            "1                 3\n",
            "2                 4\n",
            "3                 2\n",
            "4                 2\n",
            "...             ...\n",
            "88346             1\n",
            "88347             3\n",
            "88348             2\n",
            "88349             1\n",
            "88350            12\n",
            "\n",
            "[88351 rows x 1 columns]\n"
          ],
          "name": "stdout"
        },
        {
          "output_type": "display_data",
          "data": {
            "image/png": "[encoded data removed]",
            "text/plain": [
              "<Figure size 432x288 with 1 Axes>"
            ]
          },
          "metadata": {
            "tags": [],
            "needs_background": "light"
          }
        }
      ]
    },
    {
      "cell_type": "code",
      "metadata": {
        "trusted": true,
        "id": "ZKD5VOWqFxhC"
      },
      "source": [
        "# Array initializatiomn\n",
        "txt_array=[]\n",
        "sum_array=[]\n",
        "\n",
        "MAX_T_L=50 #Limiting max legth of the text to 30\n",
        "MAX_S_L=6  #Limiting max legth of the tsummary to 8"
      ],
      "execution_count": 28,
      "outputs": []
    },
    {
      "cell_type": "code",
      "metadata": {
        "trusted": true,
        "id": "yY0tEJP0FxhI"
      },
      "source": [
        "processed_data=np.array(record['processed_data']) #numpy conversion for array of text records\n",
        "summary_data=np.array(record['summary_data']) #numpy conversion for array of summary records\n",
        "\n",
        "for cnts in range(len(processed_data)):\n",
        "    if(len(processed_data[cnts].split())<=MAX_T_L and len(summary_data[cnts].split())<=MAX_S_L): #condition check if the data falls below the Max range category\n",
        "        txt_array.append(processed_data[cnts]) # text appending to array\n",
        "        sum_array.append(summary_data[cnts]) # summary appending to array\n",
        "        \n",
        "Panda_data=pd.DataFrame({'text':txt_array,'summary':sum_array}) #panda conversion dor dataframe"
      ],
      "execution_count": 29,
      "outputs": []
    },
    {
      "cell_type": "code",
      "metadata": {
        "trusted": true,
        "id": "EwLUH78CFxhg"
      },
      "source": [
        "Panda_data['summary'] = Panda_data['summary'].apply(lambda x : 'sostok '+ x + ' eostok') # x = 'sostok '+ x + ' eostok' sentinalvalue"
      ],
      "execution_count": 30,
      "outputs": []
    },
    {
      "cell_type": "code",
      "metadata": {
        "trusted": true,
        "id": "RakakKHcFxhl"
      },
      "source": [
        "train_x,value_x,train_y,value_y=tts(np.array(Panda_data['text']),np.array(Panda_data['summary']),test_size=0.1,random_state=0,shuffle=True) \n",
        "# train_x for tex\n",
        "# train_y for summary"
      ],
      "execution_count": 31,
      "outputs": []
    },
    {
      "cell_type": "code",
      "metadata": {
        "id": "j_Qf49oRUMRp"
      },
      "source": [
        "dx_tok = Tokenizer()  # tokenizer initiallization\n",
        "dx_tok.fit_on_texts(list(train_x)) # Updates internal vocabulary based on a list of texts"
      ],
      "execution_count": 32,
      "outputs": []
    },
    {
      "cell_type": "code",
      "metadata": {
        "id": "HLVQZdDxWHhz"
      },
      "source": [
        "# Check rare elements try 1\n",
        "escape_val=4 # max number of 4 repeats allowed for texts\n",
        "# 4 is taken becus text is big compared to summary and can have many repeating words\n",
        "# declaring variables\n",
        "counter=0\n",
        "total_counter=0"
      ],
      "execution_count": 33,
      "outputs": []
    },
    {
      "cell_type": "code",
      "metadata": {
        "colab": {
          "base_uri": "https://localhost:8080/"
        },
        "id": "xE7TeyL7q55a",
        "outputId": "d9440d47-9a76-4a62-d623-64f6eb41d799"
      },
      "source": [
        "for x,y in dx_tok.word_counts.items():\n",
        "    total_counter=total_counter+1 # number of words in text data ->distinct words\n",
        "    if(y<escape_val): # if word count freq < 4\n",
        "        counter=counter+1 # summary with rare text\n",
        "    \n",
        "print(\"% of rare words in data:\",(counter/total_counter)*100)\n",
        "print(counter)\n",
        "print(total_counter)"
      ],
      "execution_count": 35,
      "outputs": [
        {
          "output_type": "stream",
          "text": [
            "% of rare words in data: 63.51989647363313\n",
            "39268\n",
            "61820\n"
          ],
          "name": "stdout"
        }
      ]
    },
    {
      "cell_type": "code",
      "metadata": {
        "trusted": true,
        "id": "J2giEsF3Fxh3"
      },
      "source": [
        "tokens_x = Tokenizer(num_words=total_counter-counter)  # tokenizer initiallization\n",
        "tokens_x.fit_on_texts(list(train_x)) # Updates internal vocabulary based on a list of texts\n",
        "\n",
        "value_x_seq = tokens_x.texts_to_sequences(value_x) # Transforms each text in texts to a sequence of integers from word_index dictionary\n",
        "value_x = pad_sequences(value_x_seq, maxlen=MAX_T_L, padding='post') # checks if all records in the list are of same size or it apends 0 post the given record untill it matches MAX_T_L\n",
        "\n",
        "train_x_seq = tokens_x.texts_to_sequences(train_x) # Transforms each text in texts to a sequence of integers from word_index dictionary\n",
        "train_x = pad_sequences(train_x_seq, maxlen=MAX_T_L, padding='post') # checks if all records in the list are of same size or it apends 0 post the given record untill it matches MAX_T_L\n",
        "\n",
        "final_x = tokens_x.num_words + 1 # Total words in the record +1 for NULL"
      ],
      "execution_count": 37,
      "outputs": []
    },
    {
      "cell_type": "code",
      "metadata": {
        "trusted": true,
        "id": "DCbGMsm4FxiA",
        "colab": {
          "base_uri": "https://localhost:8080/"
        },
        "outputId": "eb55f49d-c7e9-4165-901b-903fa34c1378"
      },
      "source": [
        "final_x # Total text word count -> distinct words in text"
      ],
      "execution_count": 38,
      "outputs": [
        {
          "output_type": "execute_result",
          "data": {
            "text/plain": [
              "22553"
            ]
          },
          "metadata": {
            "tags": []
          },
          "execution_count": 38
        }
      ]
    },
    {
      "cell_type": "code",
      "metadata": {
        "trusted": true,
        "id": "eRHqyBkBFxiJ"
      },
      "source": [
        "# allows to vectorize a text corpus, by turning each text into a vector where the coefficient for each token is based on word count\n",
        "tokens_y = Tokenizer()   \n",
        "tokens_y.fit_on_texts(list(train_y)) # Updates internal vocabulary based on a list of texts"
      ],
      "execution_count": 39,
      "outputs": []
    },
    {
      "cell_type": "code",
      "metadata": {
        "id": "2osgTgHtXV2p"
      },
      "source": [
        "# Check rare elements try 2\n",
        "escape_val=6  # max number of 6 repeats of word allowed throughout the file for summary\n",
        "# 6 is taken as summary data is already minimized from data preprocessing\n",
        "# declaring variables\n",
        "counter=0\n",
        "total_counter=0"
      ],
      "execution_count": 40,
      "outputs": []
    },
    {
      "cell_type": "code",
      "metadata": {
        "trusted": true,
        "id": "yzE5OiRLFxiM",
        "colab": {
          "base_uri": "https://localhost:8080/"
        },
        "outputId": "fdb86ae5-c45f-4ba4-cc59-8bdcd50b1a11"
      },
      "source": [
        "for x,y in tokens_y.word_counts.items():\n",
        "    total_counter=total_counter+1 # number of words in summary data ->distinct words\n",
        "    if(y<escape_val):\n",
        "        counter=counter+1 # rare words count -> distinct rare words\n",
        "        \n",
        "print(\"% of rare words in data:\",(counter/total_counter)*100)"
      ],
      "execution_count": 41,
      "outputs": [
        {
          "output_type": "stream",
          "text": [
            "% of rare words in data: 77.59557539297496\n"
          ],
          "name": "stdout"
        }
      ]
    },
    {
      "cell_type": "code",
      "metadata": {
        "trusted": true,
        "id": "-fswLvIgFxiR"
      },
      "source": [
        "tokens_y = Tokenizer(num_words=total_counter-counter) # tokenizer initiallization\n",
        "tokens_y.fit_on_texts(list(train_y)) # Updates internal vocabulary based on a list of texts\n",
        "\n",
        "train_y_seq    =   tokens_y.texts_to_sequences(train_y) # Transforms each text in texts to a sequence of integers from word_index dictionary\n",
        "train_y    =   pad_sequences(train_y_seq, maxlen=MAX_S_L, padding='post') # checks if all records in the list are of same size or it apends 0 post the given record untill it matches MAX_T_L\n",
        "\n",
        "value_y_seq   =   tokens_y.texts_to_sequences(value_y) # Transforms each text in texts to a sequence of integers from word_index dictionary\n",
        "value_y   =   pad_sequences(value_y_seq, maxlen=MAX_S_L, padding='post') # checks if all records in the list are of same size or it apends 0 post the given record untill it matches MAX_T_L\n",
        "\n",
        "final_y  =   tokens_y.num_words +1 # Total words in the record +1 for NULL"
      ],
      "execution_count": 42,
      "outputs": []
    },
    {
      "cell_type": "code",
      "metadata": {
        "id": "kasY707LX2OX",
        "colab": {
          "base_uri": "https://localhost:8080/"
        },
        "outputId": "1b1dc471-2a64-4ddb-f909-1faf3079c5b7"
      },
      "source": [
        "final_y # Total summary word count -> distinct words in summary"
      ],
      "execution_count": 45,
      "outputs": [
        {
          "output_type": "execute_result",
          "data": {
            "text/plain": [
              "2310"
            ]
          },
          "metadata": {
            "tags": []
          },
          "execution_count": 45
        }
      ]
    },
    {
      "cell_type": "code",
      "metadata": {
        "trusted": true,
        "id": "pR8IX9FRFxiY",
        "colab": {
          "base_uri": "https://localhost:8080/"
        },
        "outputId": "85ac3bc9-ae60-4f3b-89f8-715bd5eae76c"
      },
      "source": [
        "tokens_y.word_counts['sostok'],len(train_y) # Total words read in Summary (Repetition allowed) is equal to summary dataset length\n",
        "# The correctness of model evaluated here"
      ],
      "execution_count": 46,
      "outputs": [
        {
          "output_type": "execute_result",
          "data": {
            "text/plain": [
              "(54747, 54747)"
            ]
          },
          "metadata": {
            "tags": []
          },
          "execution_count": 46
        }
      ]
    },
    {
      "cell_type": "code",
      "metadata": {
        "trusted": true,
        "id": "kZ-vW82sFxih"
      },
      "source": [
        "cache=[] # Array initialization\n",
        "for l in range(len(train_y)): # Runs every record as a sentence summary\n",
        "    count=0\n",
        "    for k in train_y[l]: # checks for every word in a sentence\n",
        "        if k!=0:\n",
        "            count=count+1 # cnt increases\n",
        "    if(count==2):\n",
        "        cache.append(l) # append the value to cache"
      ],
      "execution_count": 47,
      "outputs": []
    },
    {
      "cell_type": "code",
      "metadata": {
        "id": "L8K1TOMrvGWz"
      },
      "source": [
        "train_y=np.delete(train_y,cache, axis=0) # Cache removed from axis 0 in Summary\n",
        "train_x=np.delete(train_x,cache, axis=0) # Cache removed from axis 0 in Texts"
      ],
      "execution_count": 48,
      "outputs": []
    },
    {
      "cell_type": "code",
      "metadata": {
        "trusted": true,
        "id": "cx5NISuMFxik"
      },
      "source": [
        "# Now since it's removed from dataset it must be removed from value also, failing to do this may result in data inconsistency\n",
        "# As a data shown in value_x and y may not be actually available in the data set\n",
        "\n",
        "cache=[] # Array initialization\n",
        "for i in range(len(value_y)): # Runs every index of the record\n",
        "    count=0\n",
        "    for j in value_y[i]: # checks element in the row\n",
        "        if j!=0:\n",
        "            count=count+1 # cnt increases\n",
        "    if(count==2):\n",
        "        cache.append(i) # append the value to cache\n",
        "\n",
        "# As seen from the graph there is a steep increase in the word count for 2, which slows down the process, hence it's removed"
      ],
      "execution_count": 49,
      "outputs": []
    },
    {
      "cell_type": "code",
      "metadata": {
        "id": "Vo7_fL3LvLpz"
      },
      "source": [
        "value_y=np.delete(value_y,cache, axis=0) # Cache removed from axis 0 in Summary\n",
        "value_x=np.delete(value_x,cache, axis=0) # Cache removed from axis 0 in Texts\n",
        "\n",
        "# Now even though removed sepreately both should be in sync"
      ],
      "execution_count": 50,
      "outputs": []
    },
    {
      "cell_type": "markdown",
      "metadata": {
        "id": "wOtlDcthFxip"
      },
      "source": [
        "# Model building\n"
      ]
    },
    {
      "cell_type": "markdown",
      "metadata": {
        "id": "QwuJ2iElyDOA"
      },
      "source": [
        "Why LSTM?\n",
        "\n",
        "Long Short-Term Memory (LSTM) networks can convey information in the long term. Different from the traditional RNN, inside each LSTM cell, there are several simple linear operations which allow data to be conveyed without doing the complex computation."
      ]
    },
    {
      "cell_type": "code",
      "metadata": {
        "trusted": true,
        "id": "zXef38nBFxir",
        "colab": {
          "base_uri": "https://localhost:8080/"
        },
        "outputId": "34050bb4-8220-427b-8c9b-5634c4e86825"
      },
      "source": [
        "# Layers -> “forget gate layer”, “input gate layer”, “output gate layer”\n",
        "\n",
        "# Forget Gate Layer\n",
        "\n",
        "#Input Gate Layer\n",
        "#Outputs a number to indicate inside which cells the information should be updated\n",
        "\n",
        "# Output Gate Layer\n",
        "# process occuring -> In the cell state is going through a tanh function, and then it is multiplied by the weighted output of the sigmoid function. \n",
        "\n",
        "# Keras for Attention Layer Support in tensorflow\n",
        "from keras import backend as Back \n",
        "Back.clear_session()\n",
        "\n",
        "facet_a=300 # Latent Dimension -> input data for every iteration\n",
        "facet_e=100\n",
        "# Embedding Dimension -> Result data gathered from every iteration to be sent to next iteration\n",
        "#higher number, the network gets more powerful. Howevery, the number of parameters to learn also rises. This means it needs more time to train the network.\n",
        "\n",
        "podium_i=Input(shape=(MAX_T_L,))\n",
        "# Word embedding is a set of feature learning techniques in NLP where words are mapped to vectors of real numbers.\n",
        "coll_d=Embedding(final_x, facet_e,trainable=True)(podium_i)\n",
        "\n",
        "# 0 means do not let any information pass, while 1 means let all information pass\n",
        "\n",
        "# Stacked LSTM has multiple layers of LSTM stacked on top of each other. \n",
        "# This leads to a better representation of the sequence.\n",
        "\n",
        "# stack 1 LSTM\n",
        "answer_a=LSTM(facet_a, \n",
        "              dropout=0.4, # Attention paid to all the data elements during this iteartion\n",
        "              return_sequences=True, # LSTM produces the hidden state and cell state for every timestep  \n",
        "              recurrent_dropout=0.4, # Attention paid to input data\n",
        "              return_state=True) \n",
        "r1,tell1,tell2=answer_a(coll_d)\n",
        "\n",
        "# stack 2 LSTM\n",
        "answer_b=LSTM(facet_a, \n",
        "              dropout=0.4, # Attention paid to all the data elements during this iteartion\n",
        "              return_sequences=True,  # LSTM produces the hidden state and cell state for every timestep\n",
        "              recurrent_dropout=0.4, # Attention paid to the before result iteration\n",
        "              return_state=True)\n",
        "r2,m2,m3=answer_b(r1)\n",
        "\n",
        "# stack 3 LSTM\n",
        "answer_c=LSTM(facet_a, \n",
        "              dropout=0.4, # Attention paid to all the data elements during this iteartion\n",
        "              return_sequences=True,  # LSTM produces the hidden state and cell state for every timestep\n",
        "              recurrent_dropout=0.4, # Attention paid to the before result iteration\n",
        "              return_state=True)\n",
        "eye_e,item_a,item_b=answer_c(r2)\n",
        "# All information is passed through all the cells while the critical information is kept to the end, no matter how many cells the network has.\n",
        "\n",
        "\n",
        "ins_datum=Input(shape=(None,))\n",
        "# builds a relationship between words and allows calculations among them\n",
        "# Eg:- “king - men + women” = “queen”\n",
        "stack_e=Embedding(final_y, facet_e,trainable=True)\n",
        "podium_d=stack_e(ins_datum)\n",
        "\n",
        "#Final LSTM Decoding for biderectional check\n",
        "dmodule=LSTM(facet_a, \n",
        "              dropout=0.4, # Attention paid to all the data elements during this iteartion\n",
        "              return_sequences=True,  # LSTM produces the hidden state and cell state for every timestep\n",
        "              recurrent_dropout=0.2, # Attention paid to the before result iteration\n",
        "              return_state=True)\n",
        "\n",
        "# Initializing it to a value\n",
        "eye_d,decoder_fwd_state, decoder_back_state=dmodule(podium_d,initial_state=[item_a, item_b])\n",
        "\n",
        "# Attention Layer Object\n",
        "object_m=Algo_attention(name='Algorithm_attention')\n",
        "# check\n",
        "attn_out, attn_states = object_m([eye_e, eye_d])\n",
        "\n",
        "# Concatinating\n",
        "podium_dec_i=Concatenate(axis=-1, name='concat_layer')([eye_d, attn_out])\n",
        "\n",
        "# wrapper allows to apply a layer to every temporal slice of an input\n",
        "# Activation is the element-wise activation function\n",
        "# Softmax converts a real vector to a vector of categorical probabilities, cuz max of (a)t is 1\n",
        "# final_y is the feauture vector with both encoder and decoder data\n",
        "strcpy_p=TimeDistributed(Dense(final_y, activation='softmax'))\n",
        "\n",
        "# making a dense cluster\n",
        "eye_d=strcpy_p(podium_dec_i)\n",
        "\n",
        "#Model creation\n",
        "blue_p=Model([podium_i, ins_datum],eye_d)"
      ],
      "execution_count": 51,
      "outputs": [
        {
          "output_type": "stream",
          "text": [
            "WARNING:tensorflow:Layer lstm will not use cuDNN kernel since it doesn't meet the cuDNN kernel criteria. It will use generic GPU kernel as fallback when running on GPU\n",
            "WARNING:tensorflow:Layer lstm_1 will not use cuDNN kernel since it doesn't meet the cuDNN kernel criteria. It will use generic GPU kernel as fallback when running on GPU\n",
            "WARNING:tensorflow:Layer lstm_2 will not use cuDNN kernel since it doesn't meet the cuDNN kernel criteria. It will use generic GPU kernel as fallback when running on GPU\n",
            "WARNING:tensorflow:Layer lstm_3 will not use cuDNN kernel since it doesn't meet the cuDNN kernel criteria. It will use generic GPU kernel as fallback when running on GPU\n"
          ],
          "name": "stdout"
        }
      ]
    },
    {
      "cell_type": "code",
      "metadata": {
        "trusted": true,
        "id": "Lwfi1Fm8Fxiz"
      },
      "source": [
        "#Config the model with losses and metrics\n",
        "blue_p.compile(loss='sparse_categorical_crossentropy', #Sparse categorical crossentropy loss value.\n",
        "               optimizer='rmsprop') #Optimizer that implements the RMSprop algorithm."
      ],
      "execution_count": 52,
      "outputs": []
    },
    {
      "cell_type": "code",
      "metadata": {
        "id": "s-A3J92MUljB"
      },
      "source": [
        "# Early stopping is a technique used to terminate the training before overfitting occurs\n",
        "Stope = EarlyStopping(mode='min', # Terminates when quantity monitored has stopped decreasing;\n",
        "                      patience=2, # Terminates if no improvement found for 2 consequtive epochs\n",
        "                      verbose=1, # Output messages which could be useful for debugging\n",
        "                      monitor='val_loss') #Quantity to be monitored for debugging"
      ],
      "execution_count": null,
      "outputs": []
    },
    {
      "cell_type": "code",
      "metadata": {
        "trusted": true,
        "id": "ETnPzA4OFxi3",
        "colab": {
          "base_uri": "https://localhost:8080/"
        },
        "outputId": "7e7a22e1-d360-468d-acd1-a75763c702e0"
      },
      "source": [
        "# Train and validate model by fitting\n",
        "wetrain=blue_p.fit([train_x, # initial text data\n",
        "                    train_y[:,:-1]],  # removes last char\n",
        "                    train_y.reshape(train_y.shape[0], # Processed data of summary\n",
        "                    train_y.shape[1], 1)[:,1:], \n",
        "                    callbacks=[Stope],  # Early stopping\n",
        "                    batch_size=128, # Since large dataset, it's set to 128 instead of default 32 \n",
        "                    epochs=10, # Refning the model, generally defined as \"one pass over the entire dataset\". Larger the epoch better refined is the model \n",
        "                    # validating dataset where the model will not be trained\n",
        "                    validation_data=([value_x,value_y[:,:-1]], \n",
        "                                     value_y.reshape(value_y.shape[0],value_y.shape[1], 1)[:,1:]))"
      ],
      "execution_count": null,
      "outputs": [
        {
          "output_type": "stream",
          "text": [
            "Epoch 1/10\n",
            "419/419 [==============================] - 253s 578ms/step - loss: 3.8851 - val_loss: 3.2228\n",
            "Epoch 2/10\n",
            "419/419 [==============================] - 240s 574ms/step - loss: 3.1636 - val_loss: 2.9703\n",
            "Epoch 3/10\n",
            "419/419 [==============================] - 239s 569ms/step - loss: 2.9548 - val_loss: 2.8406\n",
            "Epoch 4/10\n",
            "419/419 [==============================] - 237s 565ms/step - loss: 2.8094 - val_loss: 2.7548\n",
            "Epoch 5/10\n",
            "419/419 [==============================] - 239s 570ms/step - loss: 2.7211 - val_loss: 2.7280\n",
            "Epoch 6/10\n",
            "419/419 [==============================] - 237s 565ms/step - loss: 2.6376 - val_loss: 2.6618\n",
            "Epoch 7/10\n",
            "419/419 [==============================] - 241s 574ms/step - loss: 2.5747 - val_loss: 2.6351\n",
            "Epoch 8/10\n",
            "419/419 [==============================] - 238s 567ms/step - loss: 2.5119 - val_loss: 2.6158\n",
            "Epoch 9/10\n",
            "419/419 [==============================] - 236s 564ms/step - loss: 2.4699 - val_loss: 2.5860\n",
            "Epoch 10/10\n",
            "419/419 [==============================] - 233s 555ms/step - loss: 2.4193 - val_loss: 2.5732\n"
          ],
          "name": "stdout"
        }
      ]
    },
    {
      "cell_type": "code",
      "metadata": {
        "trusted": true,
        "id": "tDTNLAURFxjE",
        "colab": {
          "base_uri": "https://localhost:8080/",
          "height": 279
        },
        "outputId": "54e9463f-9974-4465-c43d-2f5930a08f8b"
      },
      "source": [
        "# Graph to demonstrate the Training vs Testing in the model\n",
        "from matplotlib import pyplot\n",
        "plt.ylabel('data loss')\n",
        "plt.xlabel('count epoch')\n",
        "# .history is inbuilt model function \n",
        "pyplot.plot(wetrain.history['val_loss'], label='Data testing') # Gives how the testing data fared\n",
        "pyplot.plot(wetrain.history['loss'], label='Data Training') # Gives how the training data fared\n",
        "pyplot.legend()\n",
        "pyplot.show()"
      ],
      "execution_count": null,
      "outputs": [
        {
          "output_type": "display_data",
          "data": {
            "image/png": "[encoded data removed]",
            "text/plain": [
              "<Figure size 432x288 with 1 Axes>"
            ]
          },
          "metadata": {
            "tags": [],
            "needs_background": "light"
          }
        }
      ]
    },
    {
      "cell_type": "code",
      "metadata": {
        "trusted": true,
        "id": "sBX0zZnOFxjW"
      },
      "source": [
        "# Tokenizer method creates the vocabulary index based on word frequency.\n",
        "r_aim_wi=tokens_y.index_word # returns the index_word list of token_y which is summary ->reverse\n",
        "back_data_m=tokens_x.index_word # returns the index_word list of token_x which is texts ->reverse\n",
        "aim_wi=tokens_y.word_index # returns the word_index list of token_y which is summary ->straight\n",
        "# Every word gets a unique integer value.So lower integer means more frequent word"
      ],
      "execution_count": null,
      "outputs": []
    },
    {
      "cell_type": "code",
      "metadata": {
        "trusted": true,
        "id": "9QkrNV-4Fxjt"
      },
      "source": [
        "copy_e = Model(inputs=podium_i,outputs=[eye_e, item_a, item_b]) # Creating a model for texts\n",
        "\n",
        "# facet_a is the size considered for every model in this program\n",
        "material_d=Input(shape=(facet_a)) # creating tensors of size which is used for all models\n",
        "material_e=Input(shape=(facet_a)) # creating tensors of size which is used for all models\n",
        "\n",
        "o_stacke=stack_e(ins_datum) # final LSTM encode data of texts\n",
        "\n",
        "m1,m2,m3=dmodule(o_stacke, initial_state=[material_d, material_e]) # inputting text data to summary LSTM\n",
        "\n",
        "material_f = Input(shape=(MAX_T_L,facet_a)) # creating 2d tensors of size which is used for all models with each key size MAX_T_L\n",
        "o_att, s_att = object_m([material_f, m1]) # Applying Attention layer result\n",
        "\n",
        "joined_data = Concatenate(axis=-1, name='concat')([m1, o_att]) # concattinnating LSTM res with Attention layer\n",
        "m1 = strcpy_p(joined_data) # dense cluster \n",
        "\n",
        "copy_d = Model([ins_datum]+[material_f,material_d, material_e],[m1]+[m2, m3]) # Final model creation for summary abstraction"
      ],
      "execution_count": null,
      "outputs": []
    },
    {
      "cell_type": "code",
      "metadata": {
        "id": "ZJFzByLcbQIh"
      },
      "source": [
        "def sum_conv(blob):\n",
        "    vault='' # Empty string\n",
        "    for kval in blob:\n",
        "        if((kval!=aim_wi['sostok']) and kval!=aim_wi['eostok'] and kval!=0): # if the data is not equal to the two sentimental value given\n",
        "            vault=vault+r_aim_wi[kval]+' '  # Appending data to vault\n",
        "    return vault"
      ],
      "execution_count": null,
      "outputs": []
    },
    {
      "cell_type": "code",
      "metadata": {
        "trusted": true,
        "id": "6f6TTFnBFxj6"
      },
      "source": [
        "def crackit(blob):\n",
        "    result_buff='' # Empty string\n",
        "    flag=False # bool flag\n",
        "    crux_data=np.zeros((1,1)) # zero array\n",
        "    crux_data[0, 0]=aim_wi['sostok'] # inititaling the first data\n",
        "    t1,t2,t3=copy_e.predict(blob) # predict from text model of LSTM\n",
        "    while not flag:\n",
        "        result_tok,po,lo=copy_d.predict([crux_data]+[t1,t2,t3]) # predict from final model for summary of LSTM\n",
        "        tok_pointer=np.argmax(result_tok[0, -1, :]) # Returns indices of the max element of the array in a particular axis\n",
        "        coupon=r_aim_wi[tok_pointer] # Appending max data index to coupon\n",
        "        if (coupon=='eostok' or len(result_buff.split())>=(MAX_S_L-1)):\n",
        "            flag=True # breaks at the end ot at (time when max summary length is increasing at hits 7) extra echeck done\n",
        "        if (coupon!='eostok'): # if not the sentimental value then add\n",
        "            result_buff+=' '+coupon # append data\n",
        "        t2,t3=po,lo # overwritting the text predict\n",
        "        crux_data=np.zeros((1,1)) # re initializing to 0 to save space\n",
        "        crux_data[0,0]=tok_pointer #max_element index\n",
        "\n",
        "    return result_buff"
      ],
      "execution_count": null,
      "outputs": []
    },
    {
      "cell_type": "code",
      "metadata": {
        "trusted": true,
        "id": "aAUntznIFxj9"
      },
      "source": [
        "def txt_conv(blob):\n",
        "    vault='' # empty string\n",
        "    for kval in blob:\n",
        "        if(kval!=0): # if not empty(NUll or 0)\n",
        "            vault=vault+back_data_m[kval]+' ' #Appending data\n",
        "    return vault"
      ],
      "execution_count": null,
      "outputs": []
    },
    {
      "cell_type": "code",
      "metadata": {
        "trusted": true,
        "id": "BUtQmQTmFxkI",
        "colab": {
          "base_uri": "https://localhost:8080/"
        },
        "outputId": "c1c271c8-6216-48a6-b40e-2d3ebb28c308"
      },
      "source": [
        "# Result dictionary\n",
        "LSTM_RES = {\n",
        "              \"Feedback\": [],\n",
        "              \"Real Result\": [],\n",
        "              \"Predicted Result\": []\n",
        "}\n",
        "for i in range(0,10): # top 10 printing\n",
        "    print(\"Feedback:\",txt_conv(train_x[i])) # Review text\n",
        "    LSTM_RES['Feedback'].append(txt_conv(train_x[i]))\n",
        "    print(\"Real Result:\",sum_conv(train_y[i])) # Original summary\n",
        "    LSTM_RES['Real Result'].append(sum_conv(train_y[i]))\n",
        "    print(\"Predicted Result:\",crackit(train_x[i].reshape(1,MAX_T_L))) # Predicted Summary\n",
        "    LSTM_RES['Predicted Result'].append(crackit(train_x[i].reshape(1,MAX_T_L)))\n",
        "    print(\"\\n\")"
      ],
      "execution_count": null,
      "outputs": [
        {
          "output_type": "stream",
          "text": [
            "Feedback: advised receive box less local grocery store purchase \n",
            "Real Result: misleading \n",
            "Predicted Result:  great\n",
            "\n",
            "\n",
            "Feedback: love fortune cookies broken box buy \n",
            "Real Result: loved them \n",
            "Predicted Result:  cookies\n",
            "\n",
            "\n",
            "Feedback: tea tastes great really works help like relax fall asleep recommend half hour hour bedtime \n",
            "Real Result: great for relaxing into \n",
            "Predicted Result:  great tea\n",
            "\n",
            "\n",
            "Feedback: wonderful oil leaves taste oil cooks great actually good br used frying works great dressings favorite oil \n",
            "Real Result: great oil \n",
            "Predicted Result:  great product\n",
            "\n",
            "\n",
            "Feedback: though coffee expensive compared regular store bought huge fan coffee usually tears stomach tea drinker years coffee low acidic level handle aroma enticing bag lasted long time fan beans versus grounds another plus prompt packaging coffee stayed fresh intact \n",
            "Real Result: great buy \n",
            "Predicted Result:  great tasting\n",
            "\n",
            "\n",
            "Feedback: cookies best store bought cookies ever eaten usually prefer cookies product superb fine enough elegant dining \n",
            "Real Result: decadence at its best \n",
            "Predicted Result:  great cookies\n",
            "\n",
            "\n",
            "Feedback: little cups perfect compliment cup varieties use coffees loose teas disappointed much easier use cups sold keurig \n",
            "Real Result: great substitute \n",
            "Predicted Result:  great tea\n",
            "\n",
            "\n",
            "Feedback: grapes sweet adding grape juice concentrate sweeten juice wished would stop making good product bad \n",
            "Real Result: sooo sweet \n",
            "Predicted Result:  good stuff\n",
            "\n",
            "\n",
            "Feedback: drink fruit teas well robust teas german rock sugar sweeten without flavor tea regular sugar neither demerara sugar bought german rock sugar teavana told could used cooking due expense use tea well worth expense opinion especially want taste tea sugar \n",
            "Real Result: nothing else tastes as good \n",
            "Predicted Result:  great tea\n",
            "\n",
            "\n",
            "Feedback: got cocoa cups based sister law recommendation great flavor inexpensive quite good combination ordering soon \n",
            "Real Result: great cocoa \n",
            "Predicted Result:  great cocoa\n",
            "\n",
            "\n"
          ],
          "name": "stdout"
        }
      ]
    },
    {
      "cell_type": "markdown",
      "metadata": {
        "id": "MW1UHkdhV-I7"
      },
      "source": [
        "Further research using this would be to predict the stars that the review would have got with just texts given.\n",
        "\n",
        "This model is also used to redict the caption of the image by just focusssing on one part og it just like humans"
      ]
    }
  ]
}