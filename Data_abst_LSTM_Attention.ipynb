{
  "nbformat": 4,
  "nbformat_minor": 0,
  "metadata": {
    "colab": {
      "name": "Data_abst_LSTM_Attention.ipynb",
      "provenance": [],
      "collapsed_sections": []
    },
    "language_info": {
      "name": "python",
      "version": "3.6.4",
      "mimetype": "text/x-python",
      "codemirror_mode": {
        "name": "ipython",
        "version": 3
      },
      "pygments_lexer": "ipython3",
      "nbconvert_exporter": "python",
      "file_extension": ".py"
    },
    "kernelspec": {
      "name": "python3",
      "display_name": "Python 3"
    },
    "accelerator": "GPU"
  },
  "cells": [
    {
      "cell_type": "markdown",
      "metadata": {
        "id": "CkjUWQDtu-lu",
        "colab_type": "text"
      },
      "source": [
        "# **Abstractive Text Summarization using LSTM**\n",
        "\n",
        "### Model presented for Machine Learning Project\n",
        "\n",
        "- Harisaipravin Sv \n"
      ]
    },
    {
      "cell_type": "markdown",
      "metadata": {
        "id": "SCS7sud8C_vD",
        "colab_type": "text"
      },
      "source": [
        "*# A neural network is considered to be an effort to mimic human brain actions in a simplified manner. Attention Mechanism is also an attempt to implement the same action of selectively concentrating on a few relevant things, while ignoring others in deep neural networks.*"
      ]
    },
    {
      "cell_type": "markdown",
      "metadata": {
        "id": "FM5ll7z9SoxG",
        "colab_type": "text"
      },
      "source": [
        "ATTENTION LAYER DEFINITION"
      ]
    },
    {
      "cell_type": "code",
      "metadata": {
        "id": "rTnyOFtdQ4WT",
        "colab_type": "code",
        "colab": {}
      },
      "source": [
        "# Attention Layer focusses on one part of the data at a time just like humans, instead of looking all at a time which proved to be forgetfull in RNN"
      ],
      "execution_count": 51,
      "outputs": []
    },
    {
      "cell_type": "code",
      "metadata": {
        "trusted": true,
        "id": "Fi64aA0FFxcS",
        "colab_type": "code",
        "colab": {}
      },
      "source": [
        "# Keras support Attention Layer Library, We gathered idea from that and tried implementing on our own without going for library\n",
        "import tensorflow as Tensor_f # Tensorflow supports for Keras\n",
        "from tensorflow.python.keras.layers import Layer # Keras provide LSTM suppport\n",
        "from tensorflow.python.keras import backend as Keras_p # Backend Layer\n",
        "\n",
        "# Attention Layer reads word by word just like a human interpretter\n",
        "# In case of attention Layer All the data is fed through every iteration along with the previous result from the before iteration\n",
        "# It does this instead of just sending the previous result and thus allowing it to remember much data\n",
        "class Algo_attention(Layer):\n",
        "# This is the class from which all layers inherit. A layer is a callable object that takes as input one or more tensors and the outputs one or more tensors.\n",
        "\n",
        "    def __init__(self, **kwargs): #constructor \n",
        "        super(Algo_attention, self).__init__(**kwargs) #avoid referring to the base class explicitly\n",
        "\n",
        "    # Layers -> “forget gate layer”, “input gate layer”, “output gate layer”\n",
        "    # Layers involves a *state* (weight variables), defined in the `build()` method.\n",
        "    def build(self, input_shape): # keras default function to build\n",
        "        assert isinstance(input_shape, list) # Assert lets you test if a condition in your code returns True, if not, the program will raise an AssertionError\n",
        "        # Creates the state of the Layer\n",
        "        # Weighted vector creation for the attention layer to be trained\n",
        "        # The distribution of the input shape to accomodate every value in vertical, horizontal and Diagonal axis\n",
        "        self.Xval = self.add_weight(name='Xval', shape=Tensor_f.TensorShape((input_shape[0][2], input_shape[0][2])), trainable=True, initializer='uniform') # horizontal line over matrix\n",
        "        self.Yval = self.add_weight(name='Yval', shape=Tensor_f.TensorShape((input_shape[1][2], input_shape[0][2])), trainable=True, initializer='uniform') # verrical line over matrix\n",
        "        self.Zval = self.add_weight(name='Zval', shape=Tensor_f.TensorShape((input_shape[0][2], 1)), trainable=True, initializer='uniform') # Diagonal line, 1 stands for input_shape[2][2]\n",
        "        super(Algo_attention, self).build(input_shape) # Allows callback within the program instead of creating instance everytime\n",
        "\n",
        "    # Layer involves *computation*, defined in the `call()` method\n",
        "    def call(self, inputs, verbose=False): \n",
        "        assert type(inputs) == list # For Debugging\n",
        "        crypt, decrypt = inputs # Encode and Decode value both initialized to input at first\n",
        "        \n",
        "        # Function to create a tensor data\n",
        "        def start_func(inputs, hidden_size):\n",
        "            tempdata= Keras_p.zeros_like(inputs)  # 0 array of input size\n",
        "            tempdata= Keras_p.sum(tempdata, axis=[1, 2])  #Summing the tempdata with values of first two axes which has data from first 2 LSTM models\n",
        "            tempdata= Keras_p.expand_dims(tempdata) # Adds the third dimension to the tempdata array\n",
        "            tempdata= Keras_p.tile(tempdata, [1, hidden_size])  # Creates the tensor of size [1, hidden_size] from the temp data value \n",
        "            return tempdata\n",
        "\n",
        "        # sum function to return list\n",
        "        def process_func(inputs, states):\n",
        "            temp = Keras_p.sum(crypt * Keras_p.expand_dims(inputs, -1), axis=1) #sum of values along the axis 1\n",
        "            return temp, [temp] #returns list\n",
        "\n",
        "        #Applying formula to the input\n",
        "        def eprocess_func(inputs, states):\n",
        "            message = \"Input must be of type list\".format(states, type(states)) # checks input from process_func\n",
        "            assert isinstance(states, list) or isinstance(states, tuple), message # for debugging it prints the message\n",
        "\n",
        "            # Shapeing the input for alying formula\n",
        "            h_data =  crypt.shape[2] # encoder data 2nd col \n",
        "            r_output = Keras_p.reshape(crypt, (-1, h_data)) # reshaping encoder data\n",
        "            s_length = crypt.shape[1] # encoder data 1st col\n",
        "            Yval_dot_h = Keras_p.expand_dims(Keras_p.dot(inputs, self.Yval), 1)  # Adds dimension of size Yval\n",
        "            Xval_dot_s = Keras_p.reshape(Keras_p.dot(r_output, self.Xval), (-1, s_length, h_data)) # multiples two tensors and returns them\n",
        "            \n",
        "            # Attenntion layer involves banck and forth checks\n",
        "            # It iterates the string from first to last and last to first \n",
        "            r_model = Keras_p.tanh(Keras_p.reshape(Xval_dot_s + Yval_dot_h, (-1, h_data))) # Element-wise tanh returning the array of size h_data\n",
        "            keras_d = Keras_p.reshape(Keras_p.dot(r_model, self.Zval), (-1, s_length)) # Multiples the num(r_model) \n",
        "            keras_d = Keras_p.softmax(keras_d) # Softmax converts a real vector to a vector of categorical probabilities, cuz max of (a)t is 1\n",
        "            return keras_d, [keras_d]\n",
        "        \n",
        "        tempdata_e = start_func(crypt, crypt.shape[1])  #Tensordata created\n",
        "        tempdata_c = start_func(crypt, crypt.shape[-1])\n",
        "        #Iterates over the time dimension of a tensor\n",
        "        final_t, results, _ = Keras_p.rnn(eprocess_func, decrypt, [tempdata_e],) #Encode RNN\n",
        "        final_t, c_outputs, _ = Keras_p.rnn(process_func, results, [tempdata_c],) #Decode RNN\n",
        "\n",
        "        return c_outputs, results"
      ],
      "execution_count": 52,
      "outputs": []
    },
    {
      "cell_type": "markdown",
      "metadata": {
        "id": "a652VwM2SUin",
        "colab_type": "text"
      },
      "source": [
        "## DATA PREPERATION"
      ]
    },
    {
      "cell_type": "code",
      "metadata": {
        "_uuid": "8f2839f25d086af736a60e9eeb907d3b93b6e0e5",
        "_cell_guid": "b1076dfc-b9ad-4769-8c92-a6c4dae69d19",
        "trusted": true,
        "id": "_Jpu8qLEFxcY",
        "colab_type": "code",
        "colab": {}
      },
      "source": [
        "from nltk.corpus import stopwords # frequently used words like a, an , the , etc\n",
        "from tensorflow.keras.callbacks import EarlyStopping # To stop when Model converges\n",
        "from tensorflow.keras.models import Model # To build a Model\n",
        "from tensorflow.keras.layers import Input, LSTM, Embedding, Dense, Concatenate, TimeDistributed # LSTM Support using keras\n",
        "from bs4 import BeautifulSoup # Remoeving html tags\n",
        "from keras.preprocessing.text import Tokenizer  # vectorize a text \n",
        "from keras.preprocessing.sequence import pad_sequences # ensure that all sequences in a list have the same size\n",
        "import warnings # To omit warnings\n",
        "import numpy as np # NumPy is used for working with arrays\n",
        "import pandas as pd # Manupulating data with dataframe\n",
        "import re #regular expressions to be removed"
      ],
      "execution_count": 53,
      "outputs": []
    },
    {
      "cell_type": "code",
      "metadata": {
        "id": "E7Z1fRxXCPaD",
        "colab_type": "code",
        "colab": {}
      },
      "source": [
        "warnings.filterwarnings(\"ignore\") #Ignore unnecessary warnings\n",
        "pd.set_option(\"display.max_colwidth\", 100) # Panda max_col_width set to 100 as it exceeds in some eror cases"
      ],
      "execution_count": 54,
      "outputs": []
    },
    {
      "cell_type": "code",
      "metadata": {
        "id": "HvfzpqYH8N24",
        "colab_type": "code",
        "colab": {}
      },
      "source": [
        "!pip install -U -q PyDrive # Pydrive helps in mouting dataset to collab\n",
        "\n",
        "from pydrive.auth import GoogleAuth\n",
        "from pydrive.drive import GoogleDrive\n",
        "from google.colab import auth\n",
        "from oauth2client.client import GoogleCredentials  #oauth2 support given\n",
        " \n",
        "auth.authenticate_user()\n",
        "gauth = GoogleAuth()\n",
        "gauth.credentials = GoogleCredentials.get_application_default() # prompt to sign in\n",
        "drive = GoogleDrive(gauth)"
      ],
      "execution_count": 55,
      "outputs": []
    },
    {
      "cell_type": "code",
      "metadata": {
        "id": "X1_aUwPQLt7m",
        "colab_type": "code",
        "colab": {
          "base_uri": "https://localhost:8080/",
          "height": 70
        },
        "outputId": "154c5293-7ee4-4316-c371-04d8ece93caa"
      },
      "source": [
        "file_list = drive.ListFile({'q': \"'file_id_to_be_added_here' in parents and trashed=false\"}).GetList() # folder_id posted here\n",
        "for file1 in file_list:\n",
        "  print('%s -> %s' % (file1['title'], file1['id'])) # List of files in the folder"
      ],
      "execution_count": 56,
      "outputs": [
        {
          "output_type": "stream",
          "text": [
            "Reviews.csv -> 1\n",
            "hashes.txt -> 2\n",
            "database.sqlite -> 3\n"
          ],
          "name": "stdout"
        }
      ]
    },
    {
      "cell_type": "code",
      "metadata": {
        "id": "sBXPbiTa9Kn7",
        "colab_type": "code",
        "colab": {}
      },
      "source": [
        "f_id=''\n",
        "drive_file = drive.CreateFile({'id': f_id})\n",
        "drive_file = drive.CreateFile({'id':'id_here_to_be_added'}) #file_id to mount\n",
        "drive_file.GetContentFile('Reviews.csv') #getfile"
      ],
      "execution_count": 57,
      "outputs": []
    },
    {
      "cell_type": "code",
      "metadata": {
        "trusted": true,
        "id": "wnK5o4Z1Fxcj",
        "colab_type": "code",
        "colab": {}
      },
      "source": [
        "record=pd.read_csv(\"Reviews.csv\",nrows=100000) #Read file"
      ],
      "execution_count": 58,
      "outputs": []
    },
    {
      "cell_type": "code",
      "metadata": {
        "trusted": true,
        "id": "Cjul88oOFxcr",
        "colab_type": "code",
        "colab": {}
      },
      "source": [
        "record.drop_duplicates(subset=['Text'],inplace=True) # Drop duplicates\n",
        "record.dropna(axis=0,inplace=True) # Drop records with missing data or Null"
      ],
      "execution_count": 59,
      "outputs": []
    },
    {
      "cell_type": "code",
      "metadata": {
        "id": "wPkN-MgAD_um",
        "colab_type": "code",
        "colab": {
          "base_uri": "https://localhost:8080/",
          "height": 318
        },
        "outputId": "5a4b34cd-97e0-4415-f8df-53a84315777f"
      },
      "source": [
        "record.info() #Record Schema"
      ],
      "execution_count": 60,
      "outputs": [
        {
          "output_type": "stream",
          "text": [
            "<class 'pandas.core.frame.DataFrame'>\n",
            "Int64Index: 88421 entries, 0 to 99999\n",
            "Data columns (total 10 columns):\n",
            " #   Column                  Non-Null Count  Dtype \n",
            "---  ------                  --------------  ----- \n",
            " 0   Id                      88421 non-null  int64 \n",
            " 1   ProductId               88421 non-null  object\n",
            " 2   UserId                  88421 non-null  object\n",
            " 3   ProfileName             88421 non-null  object\n",
            " 4   HelpfulnessNumerator    88421 non-null  int64 \n",
            " 5   HelpfulnessDenominator  88421 non-null  int64 \n",
            " 6   Score                   88421 non-null  int64 \n",
            " 7   Time                    88421 non-null  int64 \n",
            " 8   Summary                 88421 non-null  object\n",
            " 9   Text                    88421 non-null  object\n",
            "dtypes: int64(5), object(5)\n",
            "memory usage: 7.4+ MB\n"
          ],
          "name": "stdout"
        }
      ]
    },
    {
      "cell_type": "code",
      "metadata": {
        "id": "DUwo8zmR_uJh",
        "colab_type": "code",
        "colab": {
          "base_uri": "https://localhost:8080/",
          "height": 281
        },
        "outputId": "a013a338-5601-40ca-e4b5-eb7e7c55a628"
      },
      "source": [
        "record.head() #Record Preview"
      ],
      "execution_count": 61,
      "outputs": [
        {
          "output_type": "execute_result",
          "data": {
            "text/html": [
              "<div>\n",
              "<style scoped>\n",
              "    .dataframe tbody tr th:only-of-type {\n",
              "        vertical-align: middle;\n",
              "    }\n",
              "\n",
              "    .dataframe tbody tr th {\n",
              "        vertical-align: top;\n",
              "    }\n",
              "\n",
              "    .dataframe thead th {\n",
              "        text-align: right;\n",
              "    }\n",
              "</style>\n",
              "<table border=\"1\" class=\"dataframe\">\n",
              "  <thead>\n",
              "    <tr style=\"text-align: right;\">\n",
              "      <th></th>\n",
              "      <th>Id</th>\n",
              "      <th>ProductId</th>\n",
              "      <th>UserId</th>\n",
              "      <th>ProfileName</th>\n",
              "      <th>HelpfulnessNumerator</th>\n",
              "      <th>HelpfulnessDenominator</th>\n",
              "      <th>Score</th>\n",
              "      <th>Time</th>\n",
              "      <th>Summary</th>\n",
              "      <th>Text</th>\n",
              "    </tr>\n",
              "  </thead>\n",
              "  <tbody>\n",
              "    <tr>\n",
              "      <th>0</th>\n",
              "      <td>1</td>\n",
              "      <td>B001E4KFG0</td>\n",
              "      <td>A3SGXH7AUHU8GW</td>\n",
              "      <td>delmartian</td>\n",
              "      <td>1</td>\n",
              "      <td>1</td>\n",
              "      <td>5</td>\n",
              "      <td>1303862400</td>\n",
              "      <td>Good Quality Dog Food</td>\n",
              "      <td>I have bought several of the Vitality canned dog food products and have found them all to be of ...</td>\n",
              "    </tr>\n",
              "    <tr>\n",
              "      <th>1</th>\n",
              "      <td>2</td>\n",
              "      <td>B00813GRG4</td>\n",
              "      <td>A1D87F6ZCVE5NK</td>\n",
              "      <td>dll pa</td>\n",
              "      <td>0</td>\n",
              "      <td>0</td>\n",
              "      <td>1</td>\n",
              "      <td>1346976000</td>\n",
              "      <td>Not as Advertised</td>\n",
              "      <td>Product arrived labeled as Jumbo Salted Peanuts...the peanuts were actually small sized unsalted...</td>\n",
              "    </tr>\n",
              "    <tr>\n",
              "      <th>2</th>\n",
              "      <td>3</td>\n",
              "      <td>B000LQOCH0</td>\n",
              "      <td>ABXLMWJIXXAIN</td>\n",
              "      <td>Natalia Corres \"Natalia Corres\"</td>\n",
              "      <td>1</td>\n",
              "      <td>1</td>\n",
              "      <td>4</td>\n",
              "      <td>1219017600</td>\n",
              "      <td>\"Delight\" says it all</td>\n",
              "      <td>This is a confection that has been around a few centuries.  It is a light, pillowy citrus gelati...</td>\n",
              "    </tr>\n",
              "    <tr>\n",
              "      <th>3</th>\n",
              "      <td>4</td>\n",
              "      <td>B000UA0QIQ</td>\n",
              "      <td>A395BORC6FGVXV</td>\n",
              "      <td>Karl</td>\n",
              "      <td>3</td>\n",
              "      <td>3</td>\n",
              "      <td>2</td>\n",
              "      <td>1307923200</td>\n",
              "      <td>Cough Medicine</td>\n",
              "      <td>If you are looking for the secret ingredient in Robitussin I believe I have found it.  I got thi...</td>\n",
              "    </tr>\n",
              "    <tr>\n",
              "      <th>4</th>\n",
              "      <td>5</td>\n",
              "      <td>B006K2ZZ7K</td>\n",
              "      <td>A1UQRSCLF8GW1T</td>\n",
              "      <td>Michael D. Bigham \"M. Wassir\"</td>\n",
              "      <td>0</td>\n",
              "      <td>0</td>\n",
              "      <td>5</td>\n",
              "      <td>1350777600</td>\n",
              "      <td>Great taffy</td>\n",
              "      <td>Great taffy at a great price.  There was a wide assortment of yummy taffy.  Delivery was very qu...</td>\n",
              "    </tr>\n",
              "  </tbody>\n",
              "</table>\n",
              "</div>"
            ],
            "text/plain": [
              "   Id  ...                                                                                                 Text\n",
              "0   1  ...  I have bought several of the Vitality canned dog food products and have found them all to be of ...\n",
              "1   2  ...  Product arrived labeled as Jumbo Salted Peanuts...the peanuts were actually small sized unsalted...\n",
              "2   3  ...  This is a confection that has been around a few centuries.  It is a light, pillowy citrus gelati...\n",
              "3   4  ...  If you are looking for the secret ingredient in Robitussin I believe I have found it.  I got thi...\n",
              "4   5  ...  Great taffy at a great price.  There was a wide assortment of yummy taffy.  Delivery was very qu...\n",
              "\n",
              "[5 rows x 10 columns]"
            ]
          },
          "metadata": {
            "tags": []
          },
          "execution_count": 61
        }
      ]
    },
    {
      "cell_type": "code",
      "metadata": {
        "trusted": true,
        "id": "0s6IY-x2FxdL",
        "colab_type": "code",
        "colab": {}
      },
      "source": [
        "# Common Conjugations words\n",
        "spams = {\"ain't\": \"is not\", \"aren't\": \"are not\",\"can't\": \"cannot\", \"'cause\": \"because\", \"could've\": \"could have\", \"couldn't\": \"could not\",\n",
        "                           \"didn't\": \"did not\",  \"doesn't\": \"does not\", \"don't\": \"do not\", \"hadn't\": \"had not\", \"hasn't\": \"has not\", \"haven't\": \"have not\",\n",
        "                           \"he'd\": \"he would\",\"he'll\": \"he will\", \"he's\": \"he is\", \"how'd\": \"how did\", \"how'd'y\": \"how do you\", \"how'll\": \"how will\", \"how's\": \"how is\",\n",
        "                           \"I'd\": \"I would\", \"I'd've\": \"I would have\", \"I'll\": \"I will\", \"I'll've\": \"I will have\",\"I'm\": \"I am\", \"I've\": \"I have\", \"i'd\": \"i would\",\n",
        "                           \"i'd've\": \"i would have\", \"i'll\": \"i will\",  \"i'll've\": \"i will have\",\"i'm\": \"i am\", \"i've\": \"i have\", \"isn't\": \"is not\", \"it'd\": \"it would\",\n",
        "                           \"it'd've\": \"it would have\", \"it'll\": \"it will\", \"it'll've\": \"it will have\",\"it's\": \"it is\", \"let's\": \"let us\", \"ma'am\": \"madam\",\n",
        "                           \"mayn't\": \"may not\", \"might've\": \"might have\",\"mightn't\": \"might not\",\"mightn't've\": \"might not have\", \"must've\": \"must have\",\n",
        "                           \"mustn't\": \"must not\", \"mustn't've\": \"must not have\", \"needn't\": \"need not\", \"needn't've\": \"need not have\",\"o'clock\": \"of the clock\",\n",
        "                           \"oughtn't\": \"ought not\", \"oughtn't've\": \"ought not have\", \"shan't\": \"shall not\", \"sha'n't\": \"shall not\", \"shan't've\": \"shall not have\",\n",
        "                           \"she'd\": \"she would\", \"she'd've\": \"she would have\", \"she'll\": \"she will\", \"she'll've\": \"she will have\", \"she's\": \"she is\",\n",
        "                           \"should've\": \"should have\", \"shouldn't\": \"should not\", \"shouldn't've\": \"should not have\", \"so've\": \"so have\",\"so's\": \"so as\",\n",
        "                           \"this's\": \"this is\",\"that'd\": \"that would\", \"that'd've\": \"that would have\", \"that's\": \"that is\", \"there'd\": \"there would\",\n",
        "                           \"there'd've\": \"there would have\", \"there's\": \"there is\", \"here's\": \"here is\",\"they'd\": \"they would\", \"they'd've\": \"they would have\",\n",
        "                           \"they'll\": \"they will\", \"they'll've\": \"they will have\", \"they're\": \"they are\", \"they've\": \"they have\", \"to've\": \"to have\",\n",
        "                           \"wasn't\": \"was not\", \"we'd\": \"we would\", \"we'd've\": \"we would have\", \"we'll\": \"we will\", \"we'll've\": \"we will have\", \"we're\": \"we are\",\n",
        "                           \"we've\": \"we have\", \"weren't\": \"were not\", \"what'll\": \"what will\", \"what'll've\": \"what will have\", \"what're\": \"what are\",\n",
        "                           \"what's\": \"what is\", \"what've\": \"what have\", \"when's\": \"when is\", \"when've\": \"when have\", \"where'd\": \"where did\", \"where's\": \"where is\",\n",
        "                           \"where've\": \"where have\", \"who'll\": \"who will\", \"who'll've\": \"who will have\", \"who's\": \"who is\", \"who've\": \"who have\",\n",
        "                           \"why's\": \"why is\", \"why've\": \"why have\", \"will've\": \"will have\", \"won't\": \"will not\", \"won't've\": \"will not have\",\n",
        "                           \"would've\": \"would have\", \"wouldn't\": \"would not\", \"wouldn't've\": \"would not have\", \"y'all\": \"you all\",\n",
        "                           \"y'all'd\": \"you all would\",\"y'all'd've\": \"you all would have\",\"y'all're\": \"you all are\",\"y'all've\": \"you all have\",\n",
        "                           \"you'd\": \"you would\", \"you'd've\": \"you would have\", \"you'll\": \"you will\", \"you'll've\": \"you will have\",\n",
        "                           \"you're\": \"you are\", \"you've\": \"you have\"}"
      ],
      "execution_count": 62,
      "outputs": []
    },
    {
      "cell_type": "code",
      "metadata": {
        "id": "dG9qf5AjFEku",
        "colab_type": "code",
        "colab": {
          "base_uri": "https://localhost:8080/",
          "height": 52
        },
        "outputId": "58d91139-d2fc-4edf-d04d-5ae7db9c8871"
      },
      "source": [
        "import nltk # Library for stowords\n",
        "nltk.download('stopwords') #Stopwords\n",
        "word_s = set(stopwords.words('english')) # Stopwords of english language"
      ],
      "execution_count": 63,
      "outputs": [
        {
          "output_type": "stream",
          "text": [
            "[nltk_data] Downloading package stopwords to /root/nltk_data...\n",
            "[nltk_data]   Package stopwords is already up-to-date!\n"
          ],
          "name": "stdout"
        }
      ]
    },
    {
      "cell_type": "code",
      "metadata": {
        "trusted": true,
        "id": "XZr-u3OEFxdT",
        "colab_type": "code",
        "colab": {}
      },
      "source": [
        "def clean_data(text,num):\n",
        "    buffer = text.lower() \n",
        "    buffer = BeautifulSoup(buffer, \"lxml\").text # Handling XML and HTML related datas by converting to text\n",
        "    buffer = re.sub(r'\\([^)]*\\)', '', buffer) #removing unnecessary datas\n",
        "    buffer = re.sub('\"','', buffer) # clearing double quotes \n",
        "    buffer = ' '.join([spams[t] if t in spams else t for t in buffer.split(\" \")]) # removing spam words\n",
        "    buffer = re.sub(r\"'s\\b\",\"\",buffer) # plurals and empty string\n",
        "    buffer = re.sub(\"[^a-zA-Z]\", \" \", buffer) #special characters removed\n",
        "    buffer = re.sub('[m]{2,}', 'mm', buffer) # remove repeating words\n",
        "\n",
        "    if(num==0):\n",
        "        tokens = [w for w in buffer.split() if not w in word_s] #first cleanup removing stowords\n",
        "    else:\n",
        "        tokens=buffer.split() #second cleanup seperating them\n",
        "        \n",
        "    long_words=[]\n",
        "    for i in tokens:\n",
        "        if len(i)>1:                                               \n",
        "            long_words.append(i) #records having more than 1 words still\n",
        "    return (\" \".join(long_words)).strip()"
      ],
      "execution_count": 64,
      "outputs": []
    },
    {
      "cell_type": "code",
      "metadata": {
        "trusted": true,
        "id": "A2QAeCHWFxdY",
        "colab_type": "code",
        "colab": {}
      },
      "source": [
        "processed_data = [] # processed text\n",
        "for t in record['Text']:\n",
        "    processed_data.append(clean_data(t,0)) # List appending"
      ],
      "execution_count": 65,
      "outputs": []
    },
    {
      "cell_type": "code",
      "metadata": {
        "trusted": true,
        "id": "NCAIkhWbFxdh",
        "colab_type": "code",
        "colab": {
          "base_uri": "https://localhost:8080/",
          "height": 214
        },
        "outputId": "9820f51b-7691-4263-9c0f-6d7eb4bb5d60"
      },
      "source": [
        "processed_data[:10]  # Top 10 text datas"
      ],
      "execution_count": 66,
      "outputs": [
        {
          "output_type": "execute_result",
          "data": {
            "text/plain": [
              "['bought several vitality canned dog food products found good quality product looks like stew processed meat smells better labrador finicky appreciates product better',\n",
              " 'product arrived labeled jumbo salted peanuts peanuts actually small sized unsalted sure error vendor intended represent product jumbo',\n",
              " 'confection around centuries light pillowy citrus gelatin nuts case filberts cut tiny squares liberally coated powdered sugar tiny mouthful heaven chewy flavorful highly recommend yummy treat familiar story lewis lion witch wardrobe treat seduces edmund selling brother sisters witch',\n",
              " 'looking secret ingredient robitussin believe found got addition root beer extract ordered made cherry soda flavor medicinal',\n",
              " 'great taffy great price wide assortment yummy taffy delivery quick taffy lover deal',\n",
              " 'got wild hair taffy ordered five pound bag taffy enjoyable many flavors watermelon root beer melon peppermint grape etc complaint bit much red black licorice flavored pieces kids husband lasted two weeks would recommend brand taffy delightful treat',\n",
              " 'saltwater taffy great flavors soft chewy candy individually wrapped well none candies stuck together happen expensive version fralinger would highly recommend candy served beach themed party everyone loved',\n",
              " 'taffy good soft chewy flavors amazing would definitely recommend buying satisfying',\n",
              " 'right mostly sprouting cats eat grass love rotate around wheatgrass rye',\n",
              " 'healthy dog food good digestion also good small puppies dog eats required amount every feeding']"
            ]
          },
          "metadata": {
            "tags": []
          },
          "execution_count": 66
        }
      ]
    },
    {
      "cell_type": "code",
      "metadata": {
        "trusted": true,
        "id": "GsRXocxoFxd-",
        "colab_type": "code",
        "colab": {}
      },
      "source": [
        "summary_data = [] # processed summary\n",
        "for t in record['Summary']:\n",
        "    summary_data.append(clean_data(t,1)) # List appending"
      ],
      "execution_count": 67,
      "outputs": []
    },
    {
      "cell_type": "code",
      "metadata": {
        "trusted": true,
        "id": "jQJdZcAzFxee",
        "colab_type": "code",
        "colab": {
          "base_uri": "https://localhost:8080/",
          "height": 194
        },
        "outputId": "fd89871e-1d15-4099-e0ed-34e34991848f"
      },
      "source": [
        "summary_data[:10] # Top 10 summary datas"
      ],
      "execution_count": 68,
      "outputs": [
        {
          "output_type": "execute_result",
          "data": {
            "text/plain": [
              "['good quality dog food',\n",
              " 'not as advertised',\n",
              " 'delight says it all',\n",
              " 'cough medicine',\n",
              " 'great taffy',\n",
              " 'nice taffy',\n",
              " 'great just as good as the expensive brands',\n",
              " 'wonderful tasty taffy',\n",
              " 'yay barley',\n",
              " 'healthy dog food']"
            ]
          },
          "metadata": {
            "tags": []
          },
          "execution_count": 68
        }
      ]
    },
    {
      "cell_type": "code",
      "metadata": {
        "trusted": true,
        "id": "L1zLpnqsFxey",
        "colab_type": "code",
        "colab": {}
      },
      "source": [
        "record['processed_data']=processed_data\n",
        "record['summary_data']=summary_data"
      ],
      "execution_count": 69,
      "outputs": []
    },
    {
      "cell_type": "code",
      "metadata": {
        "trusted": true,
        "id": "sYK390unFxfA",
        "colab_type": "code",
        "colab": {}
      },
      "source": [
        "record.replace('', np.nan, inplace=True) # remove NaN values,not a proper number\n",
        "record.dropna(axis=0,inplace=True) # remove Null values"
      ],
      "execution_count": 70,
      "outputs": []
    },
    {
      "cell_type": "code",
      "metadata": {
        "trusted": true,
        "id": "MdF76AHHFxgw",
        "colab_type": "code",
        "colab": {
          "base_uri": "https://localhost:8080/",
          "height": 294
        },
        "outputId": "afff0c8f-1f1d-42fe-dca4-fb498035c51c"
      },
      "source": [
        "# word count graph for text feedback\n",
        "import matplotlib.pyplot as plt\n",
        "\n",
        "# Array initialization\n",
        "text_word_count = []\n",
        "summary_word_count = []\n",
        "\n",
        "for cnts in record['processed_data']:\n",
        "      text_word_count.append(len(cnts.split())) # split and append\n",
        "\n",
        "data_len = pd.DataFrame({'text':text_word_count}) # Dataframe conversion\n",
        "data_len.hist(bins = 50) # number of histogram bins to display to make th graph clear to understand\n",
        "plt.ylabel('freq')\n",
        "plt.xlabel('words count')\n",
        "plt.show() # Outputs the graph"
      ],
      "execution_count": 71,
      "outputs": [
        {
          "output_type": "display_data",
          "data": {
            "image/png": "[encoded data removed]",
            "text/plain": [
              "<Figure size 432x288 with 1 Axes>"
            ]
          },
          "metadata": {
            "tags": [],
            "needs_background": "light"
          }
        }
      ]
    },
    {
      "cell_type": "code",
      "metadata": {
        "id": "JyY2j-CmDbny",
        "colab_type": "code",
        "colab": {
          "base_uri": "https://localhost:8080/",
          "height": 294
        },
        "outputId": "f32f8245-ca03-49ac-8cf6-bcdad67ac79b"
      },
      "source": [
        "# word count graph for summary\n",
        "\n",
        "for cnts in record['summary_data']:\n",
        "      summary_word_count.append(len(cnts.split())) # List append\n",
        "\n",
        "data_len = pd.DataFrame({'summary':summary_word_count}) # two-dimensional size-mutable, heterogeneous tabular data structure for further and easier calclulations with the data\n",
        "\n",
        "data_len.hist(bins = 50) # number of histogram bins to display to make th graph clear to understand\n",
        "plt.ylabel('freq')\n",
        "plt.xlabel('Words count')\n",
        "plt.show() # Outputs the graph"
      ],
      "execution_count": 72,
      "outputs": [
        {
          "output_type": "display_data",
          "data": {
            "image/png": "[encoded data removed]",
            "text/plain": [
              "<Figure size 432x288 with 1 Axes>"
            ]
          },
          "metadata": {
            "tags": [],
            "needs_background": "light"
          }
        }
      ]
    },
    {
      "cell_type": "code",
      "metadata": {
        "trusted": true,
        "id": "ZKD5VOWqFxhC",
        "colab_type": "code",
        "colab": {}
      },
      "source": [
        "MAX_T_L=30 #Limiting max legth of the text to 30\n",
        "MAX_S_L=8  #Limiting max legth of the tsummary to 8"
      ],
      "execution_count": 73,
      "outputs": []
    },
    {
      "cell_type": "code",
      "metadata": {
        "trusted": true,
        "id": "yY0tEJP0FxhI",
        "colab_type": "code",
        "colab": {}
      },
      "source": [
        "processed_data=np.array(record['processed_data']) #numpy conversion for array of text records\n",
        "summary_data=np.array(record['summary_data']) #numpy conversion for array of summary records\n",
        "\n",
        "# Array initializatiomn\n",
        "txt_array=[]\n",
        "sum_array=[]\n",
        "\n",
        "for cnts in range(len(processed_data)):\n",
        "    if(len(summary_data[cnts].split())<=MAX_S_L and len(processed_data[cnts].split())<=MAX_T_L): #condition check if the data falls below the Max range category\n",
        "        txt_array.append(processed_data[cnts]) # text appending to array\n",
        "        sum_array.append(summary_data[cnts]) # summary appending to array\n",
        "        \n",
        "Panda_data=pd.DataFrame({'text':txt_array,'summary':sum_array}) #panda conversion dor dataframe"
      ],
      "execution_count": 74,
      "outputs": []
    },
    {
      "cell_type": "code",
      "metadata": {
        "trusted": true,
        "id": "EwLUH78CFxhg",
        "colab_type": "code",
        "colab": {}
      },
      "source": [
        "Panda_data['summary'] = Panda_data['summary'].apply(lambda x : 'sostok '+ x + ' eostok') # x = 'sostok '+ x + ' eostok' sentinalvalue"
      ],
      "execution_count": 75,
      "outputs": []
    },
    {
      "cell_type": "code",
      "metadata": {
        "trusted": true,
        "id": "RakakKHcFxhl",
        "colab_type": "code",
        "colab": {}
      },
      "source": [
        "from sklearn.model_selection import train_test_split as tts\n",
        "# Split arrays or matrices into random train and test subsets from the loaded data\n",
        "train_x,value_x,train_y,value_y=tts(np.array(Panda_data['text']),np.array(Panda_data['summary']),test_size=0.1,random_state=0,shuffle=True) \n",
        "# train_x for tex\n",
        "# train_y for summary"
      ],
      "execution_count": 76,
      "outputs": []
    },
    {
      "cell_type": "code",
      "metadata": {
        "trusted": true,
        "id": "oRHTgX6hFxhq",
        "colab_type": "code",
        "colab": {}
      },
      "source": [
        "from keras.preprocessing.text import Tokenizer # allows to tokenize texts\n",
        "from keras.preprocessing.sequence import pad_sequences # pad_sequences is used to ensure that all sequences in a list have the same length"
      ],
      "execution_count": 77,
      "outputs": []
    },
    {
      "cell_type": "code",
      "metadata": {
        "id": "j_Qf49oRUMRp",
        "colab_type": "code",
        "colab": {}
      },
      "source": [
        "dx_tok = Tokenizer()  # tokenizer initiallization\n",
        "dx_tok.fit_on_texts(list(train_x)) # Updates internal vocabulary based on a list of texts"
      ],
      "execution_count": 78,
      "outputs": []
    },
    {
      "cell_type": "code",
      "metadata": {
        "id": "HLVQZdDxWHhz",
        "colab_type": "code",
        "colab": {}
      },
      "source": [
        "# Check rare elements try 1\n",
        "escape_val=4 # max number of 4 repeats allowed for texts\n",
        "# 4 is taken becus text is big compared to summary and can have many repeating words\n",
        "# declaring variables\n",
        "cnt=0\n",
        "tot_cnt=0\n",
        "freq=0\n",
        "tot_freq=0"
      ],
      "execution_count": 79,
      "outputs": []
    },
    {
      "cell_type": "code",
      "metadata": {
        "trusted": true,
        "colab_type": "code",
        "id": "Y_tGuVeFxxyA",
        "colab": {
          "base_uri": "https://localhost:8080/",
          "height": 52
        },
        "outputId": "7838ac2c-0244-4722-aafa-d86d42e64380"
      },
      "source": [
        "for key,value in dx_tok.word_counts.items():\n",
        "    tot_cnt=tot_cnt+1 # number of words in text data ->distinct words\n",
        "    tot_freq=tot_freq+value # total number of words\n",
        "    if(value<escape_val): # if word count freq < 4\n",
        "        cnt=cnt+1 # summary with rare text\n",
        "        freq=freq+value # rare word with freq<4 found\n",
        "    \n",
        "print(\"% of rare words in data:\",(cnt/tot_cnt)*100)\n",
        "print(\"Coverage of rare words:\",(freq/tot_freq)*100)"
      ],
      "execution_count": 80,
      "outputs": [
        {
          "output_type": "stream",
          "text": [
            "% of rare words in data: 66.12339930151339\n",
            "Coverage of rare words: 2.953684513790566\n"
          ],
          "name": "stdout"
        }
      ]
    },
    {
      "cell_type": "code",
      "metadata": {
        "trusted": true,
        "id": "J2giEsF3Fxh3",
        "colab_type": "code",
        "colab": {}
      },
      "source": [
        "tokens_x = Tokenizer(num_words=tot_cnt-cnt)  # tokenizer initiallization\n",
        "tokens_x.fit_on_texts(list(train_x)) # Updates internal vocabulary based on a list of texts\n",
        "\n",
        "value_x_seq = tokens_x.texts_to_sequences(value_x) # Transforms each text in texts to a sequence of integers from word_index dictionary\n",
        "value_x = pad_sequences(value_x_seq, maxlen=MAX_T_L, padding='post') # checks if all records in the list are of same size or it apends 0 post the given record untill it matches MAX_T_L\n",
        "\n",
        "train_x_seq = tokens_x.texts_to_sequences(train_x) # Transforms each text in texts to a sequence of integers from word_index dictionary\n",
        "train_x = pad_sequences(train_x_seq, maxlen=MAX_T_L, padding='post') # checks if all records in the list are of same size or it apends 0 post the given record untill it matches MAX_T_L\n",
        "\n",
        "final_x = tokens_x.num_words + 1 # Total words in the record +1 for NULL"
      ],
      "execution_count": 81,
      "outputs": []
    },
    {
      "cell_type": "code",
      "metadata": {
        "trusted": true,
        "id": "DCbGMsm4FxiA",
        "colab_type": "code",
        "colab": {
          "base_uri": "https://localhost:8080/",
          "height": 34
        },
        "outputId": "c0c1e3d4-f4e5-4d17-cb1f-eb605e40d4a0"
      },
      "source": [
        "final_x # Total text word count -> distinct words in text"
      ],
      "execution_count": 82,
      "outputs": [
        {
          "output_type": "execute_result",
          "data": {
            "text/plain": [
              "8440"
            ]
          },
          "metadata": {
            "tags": []
          },
          "execution_count": 82
        }
      ]
    },
    {
      "cell_type": "code",
      "metadata": {
        "trusted": true,
        "id": "eRHqyBkBFxiJ",
        "colab_type": "code",
        "colab": {}
      },
      "source": [
        "# allows to vectorize a text corpus, by turning each text into a vector where the coefficient for each token is based on word count\n",
        "tokens_y = Tokenizer()   \n",
        "tokens_y.fit_on_texts(list(train_y)) # Updates internal vocabulary based on a list of texts"
      ],
      "execution_count": 83,
      "outputs": []
    },
    {
      "cell_type": "code",
      "metadata": {
        "id": "2osgTgHtXV2p",
        "colab_type": "code",
        "colab": {}
      },
      "source": [
        "# Check rare elements try 2\n",
        "escape_val=6  # max number of 6 repeats of word allowed throughout the file for summary\n",
        "# 6 is taken as summary data is already minimized from data preprocessing\n",
        "# declaring variables\n",
        "cnt=0\n",
        "tot_cnt=0\n",
        "freq=0\n",
        "tot_freq=0"
      ],
      "execution_count": 84,
      "outputs": []
    },
    {
      "cell_type": "code",
      "metadata": {
        "trusted": true,
        "id": "yzE5OiRLFxiM",
        "colab_type": "code",
        "colab": {
          "base_uri": "https://localhost:8080/",
          "height": 52
        },
        "outputId": "2d6634b3-6d95-4260-bb35-33d470c6611c"
      },
      "source": [
        "for key,value in tokens_y.word_counts.items():\n",
        "    tot_cnt=tot_cnt+1 # number of words in summary data ->distinct words\n",
        "    tot_freq=tot_freq+value # total number of words in summary data\n",
        "    if(value<escape_val):\n",
        "        cnt=cnt+1 # rare words count -> distinct rare words\n",
        "        freq=freq+value # total number of rare words\n",
        "        \n",
        "print(\"% of rare words in data:\",(cnt/tot_cnt)*100)\n",
        "print(\"Coverage of rare words:\",(freq/tot_freq)*100)"
      ],
      "execution_count": 85,
      "outputs": [
        {
          "output_type": "stream",
          "text": [
            "% of rare words in data: 78.12740675541863\n",
            "Coverage of rare words: 5.3921899389571895\n"
          ],
          "name": "stdout"
        }
      ]
    },
    {
      "cell_type": "code",
      "metadata": {
        "trusted": true,
        "id": "-fswLvIgFxiR",
        "colab_type": "code",
        "colab": {}
      },
      "source": [
        "tokens_y = Tokenizer(num_words=tot_cnt-cnt) # tokenizer initiallization\n",
        "tokens_y.fit_on_texts(list(train_y)) # Updates internal vocabulary based on a list of texts\n",
        "\n",
        "train_y_seq    =   tokens_y.texts_to_sequences(train_y) # Transforms each text in texts to a sequence of integers from word_index dictionary\n",
        "train_y    =   pad_sequences(train_y_seq, maxlen=MAX_S_L, padding='post') # checks if all records in the list are of same size or it apends 0 post the given record untill it matches MAX_T_L\n",
        "\n",
        "value_y_seq   =   tokens_y.texts_to_sequences(value_y) # Transforms each text in texts to a sequence of integers from word_index dictionary\n",
        "value_y   =   pad_sequences(value_y_seq, maxlen=MAX_S_L, padding='post') # checks if all records in the list are of same size or it apends 0 post the given record untill it matches MAX_T_L\n",
        "\n",
        "final_y  =   tokens_y.num_words +1 # Total words in the record +1 for NULL"
      ],
      "execution_count": 86,
      "outputs": []
    },
    {
      "cell_type": "code",
      "metadata": {
        "id": "kasY707LX2OX",
        "colab_type": "code",
        "colab": {
          "base_uri": "https://localhost:8080/",
          "height": 34
        },
        "outputId": "cf48beff-a54b-481b-b0d6-9de6c936a0e1"
      },
      "source": [
        "final_y # Total summary word count -> distinct words in summary"
      ],
      "execution_count": 87,
      "outputs": [
        {
          "output_type": "execute_result",
          "data": {
            "text/plain": [
              "1989"
            ]
          },
          "metadata": {
            "tags": []
          },
          "execution_count": 87
        }
      ]
    },
    {
      "cell_type": "code",
      "metadata": {
        "trusted": true,
        "id": "pR8IX9FRFxiY",
        "colab_type": "code",
        "colab": {
          "base_uri": "https://localhost:8080/",
          "height": 34
        },
        "outputId": "681a0169-6c9d-41a3-fb61-7a8f8488af97"
      },
      "source": [
        "tokens_y.word_counts['sostok'],len(train_y) # Total words read in Summary (Repetition allowed) is equal to summary dataset length\n",
        "# The correctness of model evaluated here"
      ],
      "execution_count": 88,
      "outputs": [
        {
          "output_type": "execute_result",
          "data": {
            "text/plain": [
              "(42453, 42453)"
            ]
          },
          "metadata": {
            "tags": []
          },
          "execution_count": 88
        }
      ]
    },
    {
      "cell_type": "code",
      "metadata": {
        "trusted": true,
        "id": "kZ-vW82sFxih",
        "colab_type": "code",
        "colab": {}
      },
      "source": [
        "cache=[] # Array initialization\n",
        "for i in range(len(train_y)): # Runs every record as a sentence summary\n",
        "    cnt=0\n",
        "    for j in train_y[i]: # checks for every word in a sentence\n",
        "        if j!=0:\n",
        "            cnt=cnt+1 # cnt increases\n",
        "    if(cnt==2):\n",
        "        cache.append(i) # append the value to cache\n",
        "\n",
        "train_y=np.delete(train_y,cache, axis=0) # Cache removed from axis 0 in Summary\n",
        "train_x=np.delete(train_x,cache, axis=0) # Cache removed from axis 0 in Texts"
      ],
      "execution_count": 89,
      "outputs": []
    },
    {
      "cell_type": "code",
      "metadata": {
        "trusted": true,
        "id": "cx5NISuMFxik",
        "colab_type": "code",
        "colab": {}
      },
      "source": [
        "# Now since it's removed from dataset it must be removed from value also, failing to do this may result in data inconsistency\n",
        "# As a data shown in value_x and y may not be actually available in the data set\n",
        "\n",
        "cache=[] # Array initialization\n",
        "for i in range(len(value_y)): # Runs every index of the record\n",
        "    cnt=0\n",
        "    for j in value_y[i]: # checks element in the row\n",
        "        if j!=0:\n",
        "            cnt=cnt+1 # cnt increases\n",
        "    if(cnt==2):\n",
        "        cache.append(i) # append the value to cache\n",
        "\n",
        "# As seen from the graph there is a steep increase in the word count for 2, which slows down the process, hence it's removed\n",
        "\n",
        "value_y=np.delete(value_y,cache, axis=0) # Cache removed from axis 0 in Summary\n",
        "value_x=np.delete(value_x,cache, axis=0) # Cache removed from axis 0 in Texts\n",
        "\n",
        "# Now even though removed sepreately both should be in sync"
      ],
      "execution_count": 90,
      "outputs": []
    },
    {
      "cell_type": "markdown",
      "metadata": {
        "id": "wOtlDcthFxip",
        "colab_type": "text"
      },
      "source": [
        "# Model building\n"
      ]
    },
    {
      "cell_type": "markdown",
      "metadata": {
        "id": "QwuJ2iElyDOA",
        "colab_type": "text"
      },
      "source": [
        "Why LSTM?\n",
        "\n",
        "Long Short-Term Memory (LSTM) networks can convey information in the long term. Different from the traditional RNN, inside each LSTM cell, there are several simple linear operations which allow data to be conveyed without doing the complex computation."
      ]
    },
    {
      "cell_type": "code",
      "metadata": {
        "trusted": true,
        "id": "zXef38nBFxir",
        "colab_type": "code",
        "colab": {
          "base_uri": "https://localhost:8080/",
          "height": 692
        },
        "outputId": "4ae36d64-e5c5-4416-f346-90e9c6b7eb01"
      },
      "source": [
        "# Layers -> “forget gate layer”, “input gate layer”, “output gate layer”\n",
        "\n",
        "# Forget Gate Layer\n",
        "\n",
        "#Input Gate Layer\n",
        "#Outputs a number to indicate inside which cells the information should be updated\n",
        "\n",
        "# Output Gate Layer\n",
        "# process occuring -> In the cell state is going through a tanh function, and then it is multiplied by the weighted output of the sigmoid function. \n",
        "\n",
        "# Keras for Attention Layer Support in tensorflow\n",
        "from keras import backend as Back \n",
        "Back.clear_session()\n",
        "\n",
        "facet_a=300 # Latent Dimension -> input data for every iteration\n",
        "facet_e=100\n",
        "# Embedding Dimension -> Result data gathered from every iteration to be sent to next iteration\n",
        "#higher number, the network gets more powerful. Howevery, the number of parameters to learn also rises. This means it needs more time to train the network.\n",
        "\n",
        "podium_i=Input(shape=(MAX_T_L,))\n",
        "# Word embedding is a set of feature learning techniques in NLP where words are mapped to vectors of real numbers.\n",
        "coll_d=Embedding(final_x, facet_e,trainable=True)(podium_i)\n",
        "\n",
        "# 0 means do not let any information pass, while 1 means let all information pass\n",
        "\n",
        "# Stacked LSTM has multiple layers of LSTM stacked on top of each other. \n",
        "# This leads to a better representation of the sequence.\n",
        "\n",
        "# stack 1 LSTM\n",
        "answer_a=LSTM(facet_a, \n",
        "              dropout=0.4, # Attention paid to all the data elements during this iteartion\n",
        "              return_sequences=True, # LSTM produces the hidden state and cell state for every timestep  \n",
        "              recurrent_dropout=0.4, # Attention paid to input data\n",
        "              return_state=True) \n",
        "r1,tell1,tell2=answer_a(coll_d)\n",
        "\n",
        "# stack 2 LSTM\n",
        "answer_b=LSTM(facet_a, \n",
        "              dropout=0.4, # Attention paid to all the data elements during this iteartion\n",
        "              return_sequences=True,  # LSTM produces the hidden state and cell state for every timestep\n",
        "              recurrent_dropout=0.4, # Attention paid to the before result iteration\n",
        "              return_state=True)\n",
        "r2,m2,m3=answer_b(r1)\n",
        "\n",
        "# stack 3 LSTM\n",
        "answer_c=LSTM(facet_a, \n",
        "              dropout=0.4, # Attention paid to all the data elements during this iteartion\n",
        "              return_sequences=True,  # LSTM produces the hidden state and cell state for every timestep\n",
        "              recurrent_dropout=0.4, # Attention paid to the before result iteration\n",
        "              return_state=True)\n",
        "eye_e,item_a,item_b=answer_c(r2)\n",
        "# All information is passed through all the cells while the critical information is kept to the end, no matter how many cells the network has.\n",
        "\n",
        "\n",
        "ins_datum=Input(shape=(None,))\n",
        "# builds a relationship between words and allows calculations among them\n",
        "# Eg:- “king - men + women” = “queen”\n",
        "stack_e=Embedding(final_y, facet_e,trainable=True)\n",
        "podium_d=stack_e(ins_datum)\n",
        "\n",
        "#Final LSTM Decoding for biderectional check\n",
        "dmodule=LSTM(facet_a, \n",
        "              dropout=0.4, # Attention paid to all the data elements during this iteartion\n",
        "              return_sequences=True,  # LSTM produces the hidden state and cell state for every timestep\n",
        "              recurrent_dropout=0.2, # Attention paid to the before result iteration\n",
        "              return_state=True)\n",
        "\n",
        "# Initializing it to a value\n",
        "eye_d,decoder_fwd_state, decoder_back_state=dmodule(podium_d,initial_state=[item_a, item_b])\n",
        "\n",
        "# Attention Layer Object\n",
        "object_m=Algo_attention(name='Algorithm_attention')\n",
        "# check\n",
        "attn_out, attn_states = object_m([eye_e, eye_d])\n",
        "\n",
        "# Concatinating\n",
        "podium_dec_i=Concatenate(axis=-1, name='concat_layer')([eye_d, attn_out])\n",
        "\n",
        "# wrapper allows to apply a layer to every temporal slice of an input\n",
        "# Activation is the element-wise activation function\n",
        "# Softmax converts a real vector to a vector of categorical probabilities, cuz max of (a)t is 1\n",
        "# final_y is the feauture vector with both encoder and decoder data\n",
        "strcpy_p=TimeDistributed(Dense(final_y, activation='softmax'))\n",
        "\n",
        "# making a dense cluster\n",
        "eye_d=strcpy_p(podium_dec_i)\n",
        "\n",
        "#Model creation\n",
        "blue_p=Model([podium_i, ins_datum],eye_d)\n",
        "blue_p.summary() # Model Schema"
      ],
      "execution_count": 91,
      "outputs": [
        {
          "output_type": "stream",
          "text": [
            "WARNING:tensorflow:Layer lstm will not use cuDNN kernel since it doesn't meet the cuDNN kernel criteria. It will use generic GPU kernel as fallback when running on GPU\n",
            "WARNING:tensorflow:Layer lstm_1 will not use cuDNN kernel since it doesn't meet the cuDNN kernel criteria. It will use generic GPU kernel as fallback when running on GPU\n",
            "WARNING:tensorflow:Layer lstm_2 will not use cuDNN kernel since it doesn't meet the cuDNN kernel criteria. It will use generic GPU kernel as fallback when running on GPU\n",
            "WARNING:tensorflow:Layer lstm_3 will not use cuDNN kernel since it doesn't meet the cuDNN kernel criteria. It will use generic GPU kernel as fallback when running on GPU\n",
            "Model: \"model\"\n",
            "__________________________________________________________________________________________________\n",
            "Layer (type)                    Output Shape         Param #     Connected to                     \n",
            "==================================================================================================\n",
            "input_1 (InputLayer)            [(None, 30)]         0                                            \n",
            "__________________________________________________________________________________________________\n",
            "embedding (Embedding)           (None, 30, 100)      844000      input_1[0][0]                    \n",
            "__________________________________________________________________________________________________\n",
            "lstm (LSTM)                     [(None, 30, 300), (N 481200      embedding[0][0]                  \n",
            "__________________________________________________________________________________________________\n",
            "input_2 (InputLayer)            [(None, None)]       0                                            \n",
            "__________________________________________________________________________________________________\n",
            "lstm_1 (LSTM)                   [(None, 30, 300), (N 721200      lstm[0][0]                       \n",
            "__________________________________________________________________________________________________\n",
            "embedding_1 (Embedding)         (None, None, 100)    198900      input_2[0][0]                    \n",
            "__________________________________________________________________________________________________\n",
            "lstm_2 (LSTM)                   [(None, 30, 300), (N 721200      lstm_1[0][0]                     \n",
            "__________________________________________________________________________________________________\n",
            "lstm_3 (LSTM)                   [(None, None, 300),  481200      embedding_1[0][0]                \n",
            "                                                                 lstm_2[0][1]                     \n",
            "                                                                 lstm_2[0][2]                     \n",
            "__________________________________________________________________________________________________\n",
            "Algorithm_attention (Algo_atten ((None, None, 300),  180300      lstm_2[0][0]                     \n",
            "                                                                 lstm_3[0][0]                     \n",
            "__________________________________________________________________________________________________\n",
            "concat_layer (Concatenate)      (None, None, 600)    0           lstm_3[0][0]                     \n",
            "                                                                 Algorithm_attention[0][0]        \n",
            "__________________________________________________________________________________________________\n",
            "time_distributed (TimeDistribut (None, None, 1989)   1195389     concat_layer[0][0]               \n",
            "==================================================================================================\n",
            "Total params: 4,823,389\n",
            "Trainable params: 4,823,389\n",
            "Non-trainable params: 0\n",
            "__________________________________________________________________________________________________\n"
          ],
          "name": "stdout"
        }
      ]
    },
    {
      "cell_type": "code",
      "metadata": {
        "trusted": true,
        "id": "Lwfi1Fm8Fxiz",
        "colab_type": "code",
        "colab": {}
      },
      "source": [
        "#Config the model with losses and metrics\n",
        "blue_p.compile(loss='sparse_categorical_crossentropy', #Sparse categorical crossentropy loss value.\n",
        "               optimizer='rmsprop') #Optimizer that implements the RMSprop algorithm."
      ],
      "execution_count": 92,
      "outputs": []
    },
    {
      "cell_type": "code",
      "metadata": {
        "id": "s-A3J92MUljB",
        "colab_type": "code",
        "colab": {}
      },
      "source": [
        "# Early stopping is a technique used to terminate the training before overfitting occurs\n",
        "Stope = EarlyStopping(mode='min', # Terminates when quantity monitored has stopped decreasing;\n",
        "                      patience=2, # Terminates if no improvement found for 2 consequtive epochs\n",
        "                      verbose=1, # Output messages which could be useful for debugging\n",
        "                      monitor='val_loss') #Quantity to be monitored for debugging"
      ],
      "execution_count": 93,
      "outputs": []
    },
    {
      "cell_type": "code",
      "metadata": {
        "trusted": true,
        "id": "ETnPzA4OFxi3",
        "colab_type": "code",
        "colab": {
          "base_uri": "https://localhost:8080/",
          "height": 354
        },
        "outputId": "32df8d6d-42bc-47bc-a788-266930a4a5de"
      },
      "source": [
        "# Train and validate model by fitting\n",
        "wetrain=blue_p.fit([train_x, # initial text data\n",
        "                    train_y[:,:-1]],  # removes last char\n",
        "                   train_y.reshape(train_y.shape[0], # Processed data of summary\n",
        "                   train_y.shape[1], 1)[:,1:], \n",
        "                   callbacks=[Stope],  # Early stopping\n",
        "                   batch_size=128, # Since large dataset, it's set to 128 instead of default 32 \n",
        "                   epochs=10, # Refning the model, generally defined as \"one pass over the entire dataset\". Larger the epoch better refined is the model \n",
        "                   # validating dataset where the model will not be trained\n",
        "                   validation_data=([value_x,value_y[:,:-1]], \n",
        "                                     value_y.reshape(value_y.shape[0],value_y.shape[1], 1)[:,1:]))"
      ],
      "execution_count": 112,
      "outputs": [
        {
          "output_type": "stream",
          "text": [
            "Epoch 1/10\n",
            "324/324 [==============================] - 207s 638ms/step - loss: 1.9148 - val_loss: 2.0995\n",
            "Epoch 2/10\n",
            "324/324 [==============================] - 205s 633ms/step - loss: 1.8820 - val_loss: 2.0495\n",
            "Epoch 3/10\n",
            "324/324 [==============================] - 202s 622ms/step - loss: 1.8511 - val_loss: 2.0588\n",
            "Epoch 4/10\n",
            "324/324 [==============================] - 202s 625ms/step - loss: 1.8243 - val_loss: 2.0433\n",
            "Epoch 5/10\n",
            "324/324 [==============================] - 206s 635ms/step - loss: 1.7966 - val_loss: 2.0496\n",
            "Epoch 6/10\n",
            "324/324 [==============================] - 207s 638ms/step - loss: 1.7697 - val_loss: 2.0382\n",
            "Epoch 7/10\n",
            "324/324 [==============================] - 203s 627ms/step - loss: 1.7467 - val_loss: 2.0340\n",
            "Epoch 8/10\n",
            "324/324 [==============================] - 203s 628ms/step - loss: 1.7229 - val_loss: 2.0376\n",
            "Epoch 9/10\n",
            "324/324 [==============================] - 203s 628ms/step - loss: 1.6998 - val_loss: 2.0529\n",
            "Epoch 00009: early stopping\n"
          ],
          "name": "stdout"
        }
      ]
    },
    {
      "cell_type": "code",
      "metadata": {
        "trusted": true,
        "id": "tDTNLAURFxjE",
        "colab_type": "code",
        "colab": {
          "base_uri": "https://localhost:8080/",
          "height": 278
        },
        "outputId": "6b1b40ff-5bd9-4c87-f682-3a4679e46f94"
      },
      "source": [
        "# Graph to demonstrate the Training vs Testing in the model\n",
        "from matplotlib import pyplot\n",
        "plt.ylabel('data loss')\n",
        "plt.xlabel('count epoch')\n",
        "# .history is inbuilt model function \n",
        "pyplot.plot(wetrain.history['val_loss'], label='Data testing') # Gives how the testing data fared\n",
        "pyplot.plot(wetrain.history['loss'], label='Data Training') # Gives how the training data fared\n",
        "pyplot.legend()\n",
        "pyplot.show()"
      ],
      "execution_count": 113,
      "outputs": [
        {
          "output_type": "display_data",
          "data": {
            "image/png": "[encoded data removed]",
            "text/plain": [
              "<Figure size 432x288 with 1 Axes>"
            ]
          },
          "metadata": {
            "tags": [],
            "needs_background": "light"
          }
        }
      ]
    },
    {
      "cell_type": "code",
      "metadata": {
        "trusted": true,
        "id": "sBX0zZnOFxjW",
        "colab_type": "code",
        "colab": {}
      },
      "source": [
        "# Tokenizer method creates the vocabulary index based on word frequency.\n",
        "r_aim_wi=tokens_y.index_word # returns the index_word list of token_y which is summary ->reverse\n",
        "back_data_m=tokens_x.index_word # returns the index_word list of token_x which is texts ->reverse\n",
        "aim_wi=tokens_y.word_index # returns the word_index list of token_y which is summary ->straight\n",
        "# Every word gets a unique integer value.So lower integer means more frequent word"
      ],
      "execution_count": 114,
      "outputs": []
    },
    {
      "cell_type": "code",
      "metadata": {
        "trusted": true,
        "id": "9QkrNV-4Fxjt",
        "colab_type": "code",
        "colab": {}
      },
      "source": [
        "copy_e = Model(inputs=podium_i,outputs=[eye_e, item_a, item_b]) # Creating a model for texts\n",
        "\n",
        "# facet_a is the size considered for every model in this program\n",
        "material_d=Input(shape=(facet_a)) # creating tensors of size which is used for all models\n",
        "material_e=Input(shape=(facet_a)) # creating tensors of size which is used for all models\n",
        "\n",
        "o_stacke=stack_e(ins_datum) # final LSTM encode data of texts\n",
        "\n",
        "m1,m2,m3=dmodule(o_stacke, initial_state=[material_d, material_e]) # inputting text data to summary LSTM\n",
        "\n",
        "material_f = Input(shape=(MAX_T_L,facet_a)) # creating 2d tensors of size which is used for all models with each key size MAX_T_L\n",
        "o_att, s_att = object_m([material_f, m1]) # Applying Attention layer result\n",
        "\n",
        "joined_data = Concatenate(axis=-1, name='concat')([m1, o_att]) # concattinnating LSTM res with Attention layer\n",
        "m1 = strcpy_p(joined_data) # dense cluster \n",
        "\n",
        "copy_d = Model([ins_datum]+[material_f,material_d, material_e],[m1]+[m2, m3]) # Final model creation for summary abstraction"
      ],
      "execution_count": 115,
      "outputs": []
    },
    {
      "cell_type": "code",
      "metadata": {
        "id": "ZJFzByLcbQIh",
        "colab_type": "code",
        "colab": {}
      },
      "source": [
        "def sum_conv(blob):\n",
        "    vault='' # Empty string\n",
        "    for kval in blob:\n",
        "        if((kval!=aim_wi['sostok']) and kval!=aim_wi['eostok'] and kval!=0): # if the data is not equal to the two sentimental value given\n",
        "            vault=vault+r_aim_wi[kval]+' '  # Appending data to vault\n",
        "    return vault"
      ],
      "execution_count": 116,
      "outputs": []
    },
    {
      "cell_type": "code",
      "metadata": {
        "trusted": true,
        "id": "6f6TTFnBFxj6",
        "colab_type": "code",
        "colab": {}
      },
      "source": [
        "def crackit(blob):\n",
        "    result_buff='' # Empty string\n",
        "    flag=False # bool flag\n",
        "    crux_data=np.zeros((1,1)) # zero array\n",
        "    crux_data[0, 0]=aim_wi['sostok'] # inititaling the first data\n",
        "    t1,t2,t3=copy_e.predict(blob) # predict from text model of LSTM\n",
        "    while not flag:\n",
        "        result_tok,po,lo=copy_d.predict([crux_data]+[t1,t2,t3]) # predict from final model for summary of LSTM\n",
        "        tok_pointer=np.argmax(result_tok[0, -1, :]) # Returns indices of the max element of the array in a particular axis\n",
        "        coupon=r_aim_wi[tok_pointer] # Appending max data index to coupon\n",
        "        if (coupon=='eostok' or len(result_buff.split())>=(MAX_S_L-1)):\n",
        "            flag=True # breaks at the end ot at (time when max summary length is increasing at hits 7) extra echeck done\n",
        "        if (coupon!='eostok'): # if not the sentimental value then add\n",
        "            result_buff+=' '+coupon # append data\n",
        "        t2,t3=po,lo # overwritting the text predict\n",
        "        crux_data=np.zeros((1,1)) # re initializing to 0 to save space\n",
        "        crux_data[0,0]=tok_pointer #max_element index\n",
        "\n",
        "    return result_buff"
      ],
      "execution_count": 117,
      "outputs": []
    },
    {
      "cell_type": "code",
      "metadata": {
        "trusted": true,
        "id": "aAUntznIFxj9",
        "colab_type": "code",
        "colab": {}
      },
      "source": [
        "def txt_conv(blob):\n",
        "    vault='' # empty string\n",
        "    for kval in blob:\n",
        "        if(kval!=0): # if not empty(NUll or 0)\n",
        "            vault=vault+back_data_m[kval]+' ' #Appending data\n",
        "    return vault"
      ],
      "execution_count": 118,
      "outputs": []
    },
    {
      "cell_type": "code",
      "metadata": {
        "trusted": true,
        "id": "BUtQmQTmFxkI",
        "colab_type": "code",
        "colab": {
          "base_uri": "https://localhost:8080/",
          "height": 925
        },
        "outputId": "d57e32f1-a3c1-4fac-c83b-188fe02cfe52"
      },
      "source": [
        "# Result dictionary\n",
        "LSTM_RES = {\n",
        "              \"Feedback\": [],\n",
        "              \"Real Result\": [],\n",
        "              \"Predicted Result\": []\n",
        "}\n",
        "for i in range(0,10): # top 10 printing\n",
        "    print(\"Feedback:\",txt_conv(train_x[i])) # Review text\n",
        "    LSTM_RES['Feedback'].append(txt_conv(train_x[i]))\n",
        "    print(\"Real Result:\",sum_conv(train_y[i])) # Original summary\n",
        "    LSTM_RES['Real Result'].append(sum_conv(train_y[i]))\n",
        "    print(\"Predicted Result:\",crackit(train_x[i].reshape(1,MAX_T_L))) # Predicted Summary\n",
        "    LSTM_RES['Predicted Result'].append(crackit(train_x[i].reshape(1,MAX_T_L)))\n",
        "    print(\"\\n\")"
      ],
      "execution_count": 119,
      "outputs": [
        {
          "output_type": "stream",
          "text": [
            "Feedback: gave caffeine shakes heart anxiety attack plus tastes unbelievably bad stick coffee tea soda thanks \n",
            "Real Result: hour \n",
            "Predicted Result:  great tea\n",
            "\n",
            "\n",
            "Feedback: got great course good belgian chocolates better \n",
            "Real Result: would like to give it stars but \n",
            "Predicted Result:  great taste\n",
            "\n",
            "\n",
            "Feedback: one best flavored coffees tried usually like flavored coffees one great serve company love \n",
            "Real Result: delicious \n",
            "Predicted Result:  great coffee\n",
            "\n",
            "\n",
            "Feedback: salt separate area pain makes hard regulate salt putting like salt go ahead get product \n",
            "Real Result: tastes ok packaging \n",
            "Predicted Result:  great salt\n",
            "\n",
            "\n",
            "Feedback: really like product super easy order online delivered much cheaper buying gas station stocking good long drives \n",
            "Real Result: turkey jerky is great \n",
            "Predicted Result:  great flavor\n",
            "\n",
            "\n",
            "Feedback: best salad dressing delivered promptly quantities last vidalia onion dressing compares made oak hill farms sometimes find costco order front door want even orders cut shipping costs \n",
            "Real Result: my favorite salad dressing \n",
            "Predicted Result:  great product\n",
            "\n",
            "\n",
            "Feedback: think sitting around warehouse long time took long time send got tea tasted like cardboard red rasberry leaf tea know supposed taste like \n",
            "Real Result: stale \n",
            "Predicted Result:  not so good\n",
            "\n",
            "\n",
            "Feedback: year old cat special diet digestive problems also diabetes stopped eating usual special formula food tried different kinds catfood one liked easy digestion diabetes thank newman \n",
            "Real Result: wonderful \n",
            "Predicted Result:  great for cats\n",
            "\n",
            "\n",
            "Feedback: always perfect snack dog loves knows exactly starts ask time evening gets greenie snack thank excellent product fast delivery \n",
            "Real Result: greenies buddy treat \n",
            "Predicted Result:  great for training\n",
            "\n",
            "\n",
            "Feedback: dog loves tiny treats keep one car one house \n",
            "Real Result: dog loves them \n",
            "Predicted Result:  great treat\n",
            "\n",
            "\n"
          ],
          "name": "stdout"
        }
      ]
    },
    {
      "cell_type": "markdown",
      "metadata": {
        "id": "MW1UHkdhV-I7",
        "colab_type": "text"
      },
      "source": [
        "Further research using this would be to predict the stars that the review would have got with just texts given.\n",
        "\n",
        "This model is also used to redict the caption of the image by just focusssing on one part og it just like humans"
      ]
    }
  ]
}